{
 "cells": [
  {
   "cell_type": "markdown",
   "metadata": {},
   "source": [
    "## Introduction\n",
    "\n",
    "We will use webscraping to find out the capture rate for each pokemon.\n",
    "\n",
    "We will use serebii.net to find the these values."
   ]
  },
  {
   "cell_type": "code",
   "execution_count": 3,
   "metadata": {},
   "outputs": [],
   "source": [
    "import requests\n",
    "from bs4 import BeautifulSoup\n",
    "import lxml"
   ]
  },
  {
   "cell_type": "code",
   "execution_count": 4,
   "metadata": {},
   "outputs": [],
   "source": [
    "urls = []\n",
    "\n",
    "for i in range(721):\n",
    "    num = i + 1\n",
    "    num = str(num)\n",
    "    if len(num) != 3:\n",
    "        diff = 3 - len(num) \n",
    "        num = diff * \"0\" + num  # padding\n",
    "    link = 'https://serebii.net/pokedex-xy/' + num + '.shtml'\n",
    "    urls.append(link)\n",
    "    "
   ]
  },
  {
   "cell_type": "code",
   "execution_count": 22,
   "metadata": {},
   "outputs": [],
   "source": [
    "# along with the capture rates, we should probably find the names too\n",
    "names = []\n",
    "rates = []\n",
    "breed_info_list = []\n",
    "for page in urls:\n",
    "    response = requests.get(page)\n",
    "    soup = BeautifulSoup(response.text, 'lxml')\n",
    "    # find all tables in the webpage\n",
    "    items = soup.find_all('table', class_ = 'dextable')\n",
    "    # find name\n",
    "    rate = items[1].find_all(\"td\",class_=\"fooinfo\")[7].text # look at 2nd table and the 8th item\n",
    "    rates.append(rate)\n",
    "    # find capture rate\n",
    "    name = items[1].find_all(\"td\",class_=\"fooinfo\")[0].text # look at 2nd table and the 2nd item\n",
    "    names.append(name)\n",
    "    # find breed info\n",
    "\n",
    "    breed_info = items[4].find(\"form\") # look at the 5th table\n",
    "    if breed_info:  # if the breed info exists, append 1\n",
    "        breed_info_list.append(1)\n",
    "    else:\n",
    "        breed_info_list.append(0) "
   ]
  },
  {
   "cell_type": "code",
   "execution_count": 61,
   "metadata": {},
   "outputs": [],
   "source": [
    "import pandas as pd\n",
    "\n",
    "df = pd.DataFrame({\"names\":names,\n",
    "                   \"capture_rate\":rates,\n",
    "                   \"can_breed\":breed_info_list})\n",
    "\n",
    "df[\"capture_rate_clean\"] = df[\"capture_rate\"].str.extract(\"(\\d+)\")\n",
    "\n",
    "# we make the pokemon number ourselves\n",
    "df = df.reset_index()\n",
    "df['pkmn_number'] = df['index'] + 1\n",
    "\n",
    "df.to_csv(\"pkmn_capture_rates.csv\", index = False)"
   ]
  },
  {
   "cell_type": "code",
   "execution_count": 63,
   "metadata": {},
   "outputs": [],
   "source": [
    "df.drop(\"index\", axis=1).to_csv(\"pkmn_capture_rates.csv\", index = False)"
   ]
  },
  {
   "cell_type": "code",
   "execution_count": null,
   "metadata": {},
   "outputs": [],
   "source": []
  }
 ],
 "metadata": {
  "kernelspec": {
   "display_name": "Python 3",
   "language": "python",
   "name": "python3"
  },
  "language_info": {
   "codemirror_mode": {
    "name": "ipython",
    "version": 3
   },
   "file_extension": ".py",
   "mimetype": "text/x-python",
   "name": "python",
   "nbconvert_exporter": "python",
   "pygments_lexer": "ipython3",
   "version": "3.8.3"
  }
 },
 "nbformat": 4,
 "nbformat_minor": 4
}
