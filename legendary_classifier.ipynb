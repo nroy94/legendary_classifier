{
 "cells": [
  {
   "cell_type": "markdown",
   "metadata": {},
   "source": [
    "## Introduction\n",
    "\n",
    "We want to be able to indentify legendary pokemon based on type, stats, and generation, and other features. This will be a binary classification problem."
   ]
  },
  {
   "cell_type": "code",
   "execution_count": 10,
   "metadata": {},
   "outputs": [],
   "source": [
    "import pandas as pd\n",
    "import numpy as np\n",
    "import re\n",
    "import seaborn as sns\n",
    "import matplotlib.pyplot as plt\n",
    "%matplotlib inline\n",
    "\n",
    "import warnings\n",
    "from sklearn.exceptions import ConvergenceWarning\n",
    "warnings.filterwarnings(\"ignore\", category=ConvergenceWarning)"
   ]
  },
  {
   "cell_type": "code",
   "execution_count": 11,
   "metadata": {},
   "outputs": [],
   "source": [
    "data = pd.read_csv('Pokemon.csv')"
   ]
  },
  {
   "cell_type": "code",
   "execution_count": 12,
   "metadata": {},
   "outputs": [
    {
     "name": "stdout",
     "output_type": "stream",
     "text": [
      "<class 'pandas.core.frame.DataFrame'>\n",
      "RangeIndex: 800 entries, 0 to 799\n",
      "Data columns (total 13 columns):\n",
      " #   Column      Non-Null Count  Dtype \n",
      "---  ------      --------------  ----- \n",
      " 0   #           800 non-null    int64 \n",
      " 1   Name        800 non-null    object\n",
      " 2   Type 1      800 non-null    object\n",
      " 3   Type 2      414 non-null    object\n",
      " 4   Total       800 non-null    int64 \n",
      " 5   HP          800 non-null    int64 \n",
      " 6   Attack      800 non-null    int64 \n",
      " 7   Defense     800 non-null    int64 \n",
      " 8   Sp. Atk     800 non-null    int64 \n",
      " 9   Sp. Def     800 non-null    int64 \n",
      " 10  Speed       800 non-null    int64 \n",
      " 11  Generation  800 non-null    int64 \n",
      " 12  Legendary   800 non-null    bool  \n",
      "dtypes: bool(1), int64(9), object(3)\n",
      "memory usage: 75.9+ KB\n"
     ]
    }
   ],
   "source": [
    "data.info()"
   ]
  },
  {
   "cell_type": "markdown",
   "metadata": {},
   "source": [
    "There are some particular features that seem to be highly occur along with the positive class (being legendary): a low capture rate and inability to breed.  In another python notebook on this file, I've webscraped these two features and put them in a csv."
   ]
  },
  {
   "cell_type": "code",
   "execution_count": 13,
   "metadata": {},
   "outputs": [
    {
     "name": "stdout",
     "output_type": "stream",
     "text": [
      "<class 'pandas.core.frame.DataFrame'>\n",
      "RangeIndex: 721 entries, 0 to 720\n",
      "Data columns (total 5 columns):\n",
      " #   Column              Non-Null Count  Dtype \n",
      "---  ------              --------------  ----- \n",
      " 0   names               721 non-null    object\n",
      " 1   capture_rate        721 non-null    object\n",
      " 2   can_breed           721 non-null    int64 \n",
      " 3   capture_rate_clean  721 non-null    int64 \n",
      " 4   pkmn_number         721 non-null    int64 \n",
      "dtypes: int64(3), object(2)\n",
      "memory usage: 28.3+ KB\n"
     ]
    }
   ],
   "source": [
    "cpt_rates = pd.read_csv(\"pkmn_capture_rates.csv\")\n",
    "\n",
    "cpt_rates.info()"
   ]
  },
  {
   "cell_type": "code",
   "execution_count": 14,
   "metadata": {},
   "outputs": [],
   "source": [
    "# we join on the pokemon's assigned number\n",
    "data = data.merge(cpt_rates, how='left', left_on='#', right_on ='pkmn_number')\n",
    "# drop the columns from the cpt_rates csv that we won't need\n",
    "data = data.drop([\"names\", \"pkmn_number\", \"capture_rate\"], axis = 1)"
   ]
  },
  {
   "cell_type": "code",
   "execution_count": 15,
   "metadata": {},
   "outputs": [
    {
     "data": {
      "text/plain": [
       "0.0925"
      ]
     },
     "execution_count": 15,
     "metadata": {},
     "output_type": "execute_result"
    }
   ],
   "source": [
    "# lets standardize the column names\n",
    "data.columns = [col.lower()\n",
    "                   .replace(\".\",\"\") \n",
    "                   .replace(\" \", \"_\")\n",
    "                for col in data.columns]\n",
    "\n",
    "# how much of the data is legendaries?\n",
    "data['legendary'].sum() / data.shape[0]"
   ]
  },
  {
   "cell_type": "markdown",
   "metadata": {},
   "source": [
    "## <u>Preprocessing</u>\n",
    "### Stratified Sampling\n",
    "\n",
    "Since the positive class is rare, let's use a stratified sampling method."
   ]
  },
  {
   "cell_type": "code",
   "execution_count": 16,
   "metadata": {},
   "outputs": [],
   "source": [
    "from sklearn.model_selection import StratifiedShuffleSplit\n",
    "\n",
    "split = StratifiedShuffleSplit(n_splits=1, test_size=.2, random_state=24)\n",
    "for train_index, test_index in split.split(data, data['legendary']):\n",
    "    train = data.loc[train_index]\n",
    "    test = data.loc[test_index]"
   ]
  },
  {
   "cell_type": "markdown",
   "metadata": {},
   "source": [
    "### Data Cleaning"
   ]
  },
  {
   "cell_type": "code",
   "execution_count": 17,
   "metadata": {},
   "outputs": [],
   "source": [
    "# removing mega evolutions\n",
    "train = train[train['name'].apply(lambda col: True if not re.search('\\wMega',col) else False)] # \"Mega\" is typically after a word\n",
    "test = test[test['name'].apply(lambda col: True if not re.search('\\wMega',col) else False)] "
   ]
  },
  {
   "cell_type": "code",
   "execution_count": 18,
   "metadata": {},
   "outputs": [],
   "source": [
    "# remove unnecessary columns\n",
    "train = train.drop(['#', 'name'], axis = 1)\n",
    "test = test.drop(['#', 'name'], axis = 1)"
   ]
  },
  {
   "cell_type": "code",
   "execution_count": 19,
   "metadata": {},
   "outputs": [],
   "source": [
    "# make the generation into an object type instead of a number\n",
    "train['generation'] = train['generation'].astype(str)\n",
    "test['generation'] = test['generation'].astype(str)"
   ]
  },
  {
   "cell_type": "code",
   "execution_count": 20,
   "metadata": {},
   "outputs": [],
   "source": [
    "# we remove the total feature since by definition is colinear with other stats\n",
    "train = train.drop('total', axis = 1)\n",
    "test = test.drop('total', axis = 1)"
   ]
  },
  {
   "cell_type": "markdown",
   "metadata": {},
   "source": [
    "### Exploration\n",
    "\n",
    "Since mega-evolutions are gone, let's do some exploratory analysis."
   ]
  },
  {
   "cell_type": "code",
   "execution_count": 21,
   "metadata": {},
   "outputs": [
    {
     "data": {
      "text/plain": [
       "<matplotlib.axes._subplots.AxesSubplot at 0x1ab54e2d310>"
      ]
     },
     "execution_count": 21,
     "metadata": {},
     "output_type": "execute_result"
    },
    {
     "data": {
      "image/png": "[encoded data removed]",
      "text/plain": [
       "<Figure size 432x288 with 1 Axes>"
      ]
     },
     "metadata": {
      "needs_background": "light"
     },
     "output_type": "display_data"
    }
   ],
   "source": [
    "train.pivot_table(index='legendary', values=['hp', 'attack', 'defense', 'sp_atk', 'sp_def', 'speed'], aggfunc=np.mean) \\\n",
    "     .apply(lambda row: row[True] - row[False], axis=0) \\\n",
    "     .sort_values() \\\n",
    "     .plot.barh()"
   ]
  },
  {
   "cell_type": "markdown",
   "metadata": {},
   "source": [
    "We see that on average, most legendary pokemon have much higher sp_atk that regular pokemon."
   ]
  },
  {
   "cell_type": "code",
   "execution_count": 22,
   "metadata": {},
   "outputs": [
    {
     "data": {
      "text/plain": [
       "<matplotlib.axes._subplots.AxesSubplot at 0x1ab5558ae20>"
      ]
     },
     "execution_count": 22,
     "metadata": {},
     "output_type": "execute_result"
    },
    {
     "data": {
      "image/png": "[encoded data removed]",
      "text/plain": [
       "<Figure size 432x288 with 1 Axes>"
      ]
     },
     "metadata": {
      "needs_background": "light"
     },
     "output_type": "display_data"
    }
   ],
   "source": [
    "train.pivot_table(index='generation', values=['legendary'], aggfunc=np.sum)\\\n",
    "     .sort_values(by='legendary')\\\n",
    "     .plot.barh(legend=False)"
   ]
  },
  {
   "cell_type": "markdown",
   "metadata": {},
   "source": [
    "Some generations do have more legendaries than others."
   ]
  },
  {
   "cell_type": "code",
   "execution_count": 23,
   "metadata": {},
   "outputs": [
    {
     "data": {
      "text/plain": [
       "<matplotlib.axes._subplots.AxesSubplot at 0x1ab555eb970>"
      ]
     },
     "execution_count": 23,
     "metadata": {},
     "output_type": "execute_result"
    },
    {
     "data": {
      "image/png": "[encoded data removed]",
      "text/plain": [
       "<Figure size 432x288 with 1 Axes>"
      ]
     },
     "metadata": {
      "needs_background": "light"
     },
     "output_type": "display_data"
    }
   ],
   "source": [
    "train.pivot_table(index='legendary', values=['capture_rate_clean'], aggfunc=np.mean)\\\n",
    "     .plot.barh(legend=False)"
   ]
  },
  {
   "cell_type": "markdown",
   "metadata": {},
   "source": [
    "Most legendaries have a *much* lower capture rate."
   ]
  },
  {
   "cell_type": "code",
   "execution_count": 24,
   "metadata": {},
   "outputs": [
    {
     "data": {
      "text/plain": [
       "<matplotlib.axes._subplots.AxesSubplot at 0x1ab555ec610>"
      ]
     },
     "execution_count": 24,
     "metadata": {},
     "output_type": "execute_result"
    },
    {
     "data": {
      "image/png": "[encoded data removed]",
      "text/plain": [
       "<Figure size 432x288 with 1 Axes>"
      ]
     },
     "metadata": {
      "needs_background": "light"
     },
     "output_type": "display_data"
    }
   ],
   "source": [
    "train.pivot_table(index=['legendary','can_breed'], values=['capture_rate_clean'], aggfunc=np.size)\\\n",
    "     .plot.barh(legend=False)"
   ]
  },
  {
   "cell_type": "markdown",
   "metadata": {},
   "source": [
    "Most legendaries can't breed and most non-legendaries can breed."
   ]
  },
  {
   "cell_type": "markdown",
   "metadata": {},
   "source": [
    "### Column Transformation\n",
    "#### Type Indicator\n",
    "We want to make sure that the model doesn't care if a type is type_1 or type_2 if it's the same type. For example, we don't want a type_1_water dummy columns AND a type_2_water dummy column. We'd rather have a water_ind dummy column that has 1 when either type_1 and type_2 are Water. This will also reduce \n",
    "34 potential dummy columns for type to 17."
   ]
  },
  {
   "cell_type": "code",
   "execution_count": 25,
   "metadata": {},
   "outputs": [],
   "source": [
    "# get all the unique types\n",
    "types = set(np.concatenate((train['type_1'].unique(), \n",
    "                            train['type_2'].dropna().unique()))) # get all the types in the train and test\n",
    "types = list(types)\n",
    "\n",
    "# make a column for each type on the train and test set\n",
    "for type_ in types:\n",
    "    dummy_col = type_.lower() + \"_ind\"\n",
    "    train[dummy_col] = train.apply(lambda row: 1 if row['type_1'] == type_ or row['type_2'] == type_ else 0, axis = 1)\n",
    "\n",
    "for type_ in types:\n",
    "    dummy_col = type_.lower() + \"_ind\"\n",
    "    test[dummy_col] = test.apply(lambda row: 1 if row['type_1'] == type_ or row['type_2'] == type_ else 0, axis = 1)\n",
    "    \n",
    "# drop the old column\n",
    "train = train.drop(['type_1', 'type_2'], axis = 1)\n",
    "test = test.drop(['type_1', 'type_2'], axis = 1)    "
   ]
  },
  {
   "cell_type": "markdown",
   "metadata": {},
   "source": [
    "#### One-hot Encoding "
   ]
  },
  {
   "cell_type": "code",
   "execution_count": 26,
   "metadata": {},
   "outputs": [],
   "source": [
    "def create_dummies(df, column_name, drop = True):\n",
    "    \n",
    "    dummies = pd.get_dummies(df[column_name], prefix = column_name)\n",
    "    df = pd.concat([df, dummies], axis = 1)\n",
    "    if drop:\n",
    "        df = df.drop(column_name, axis = 1)\n",
    "    return df"
   ]
  },
  {
   "cell_type": "code",
   "execution_count": 27,
   "metadata": {},
   "outputs": [],
   "source": [
    "train = create_dummies(train, \"generation\")\n",
    "test = create_dummies(test, \"generation\")"
   ]
  },
  {
   "cell_type": "markdown",
   "metadata": {},
   "source": [
    "Let's look at a heatmap to view colinearity and relation to the positive class."
   ]
  },
  {
   "cell_type": "code",
   "execution_count": 28,
   "metadata": {},
   "outputs": [],
   "source": [
    "def plot_correlation_heatmap(df):\n",
    "    \n",
    "    corr = df.corr()\n",
    "    sns.set(style = 'white')\n",
    "    mask = np.zeros_like(corr, dtype = np.bool)\n",
    "    mask[np.triu_indices_from(mask)] = True\n",
    "    f, ax = plt.subplots(figsize = (11, 9))\n",
    "    cmap = sns.diverging_palette(10, 150, as_cmap = True)\n",
    "    sns.heatmap(corr, mask = mask, cmap = cmap, vmax = .3, center = 0,\n",
    "                square= True, linewidth = .5, cbar_kws = {'shrink':.5})\n",
    "    plt.show()"
   ]
  },
  {
   "cell_type": "code",
   "execution_count": 29,
   "metadata": {},
   "outputs": [
    {
     "data": {
      "image/png": "[encoded data removed]",
      "text/plain": [
       "<Figure size 792x648 with 2 Axes>"
      ]
     },
     "metadata": {},
     "output_type": "display_data"
    }
   ],
   "source": [
    "plot_correlation_heatmap(train)"
   ]
  },
  {
   "cell_type": "markdown",
   "metadata": {},
   "source": [
    "**Insights:**\n",
    "\n",
    "We see that generations are weak indicators of legendaries, and we saw that they're isn't many legendaries per generation to begin with.\n",
    "\n",
    "Type isn't a good indicators of legendaries either.\n",
    "\n",
    "Being dragon or psychic is a strong indicator that pokemon might be legendary.\n",
    "\n",
    "We may be able to remove sp atk and defense since they're correlated with other types too.\n",
    "\n",
    "\n",
    "\n"
   ]
  },
  {
   "cell_type": "code",
   "execution_count": 33,
   "metadata": {},
   "outputs": [],
   "source": [
    "# based on our insights, let's drop the generation features\n",
    "train = train.drop(['generation_1', 'generation_2', 'generation_3', 'generation_4', 'generation_5', 'generation_6'], axis=1)\n",
    "test = test.drop(['generation_1', 'generation_2', 'generation_3', 'generation_4', 'generation_5', 'generation_6'], axis=1)\n",
    "\n",
    "# let's remove most of the type dummy features\n",
    "train = train.drop(['fairy_ind', 'rock_ind', 'fighting_ind', 'electric_ind', 'bug_ind', 'normal_ind', 'grass_ind', \n",
    "                    'ghost_ind', 'water_ind', 'steel_ind','dark_ind', 'ice_ind', 'poison_ind', 'flying_ind', \n",
    "                    'ground_ind', 'fire_ind', 'psychic_ind', 'dragon_ind'], axis=1)\n",
    "\n",
    "test = test.drop(['fairy_ind', 'rock_ind', 'fighting_ind', 'electric_ind', 'bug_ind', 'normal_ind', 'grass_ind', \n",
    "                    'ghost_ind', 'water_ind', 'steel_ind','dark_ind', 'ice_ind', 'poison_ind', 'flying_ind', \n",
    "                    'ground_ind', 'fire_ind', 'psychic_ind', 'dragon_ind'], axis=1)\n",
    "\n",
    "train = train.drop(['hp', 'attack'], axis=1)\n",
    "\n",
    "test = test.drop(['hp', 'attack'], axis=1)"
   ]
  },
  {
   "cell_type": "code",
   "execution_count": 34,
   "metadata": {},
   "outputs": [
    {
     "data": {
      "image/png": "[encoded data removed]",
      "text/plain": [
       "<Figure size 792x648 with 2 Axes>"
      ]
     },
     "metadata": {},
     "output_type": "display_data"
    }
   ],
   "source": [
    "plot_correlation_heatmap(train)"
   ]
  },
  {
   "cell_type": "code",
   "execution_count": 35,
   "metadata": {},
   "outputs": [],
   "source": [
    "# splitting the features and labels\n",
    "X_train = train.drop('legendary', axis = 1)\n",
    "X_test = test.drop('legendary', axis = 1)\n",
    "\n",
    "y_train = train['legendary'] \n",
    "y_test = test['legendary'] "
   ]
  },
  {
   "cell_type": "markdown",
   "metadata": {},
   "source": [
    "## <u>Modeling\n",
    "    \n",
    "We'll use a logistic regression model for now."
   ]
  },
  {
   "cell_type": "code",
   "execution_count": 40,
   "metadata": {},
   "outputs": [],
   "source": [
    "from sklearn.linear_model import LogisticRegression"
   ]
  },
  {
   "cell_type": "code",
   "execution_count": 41,
   "metadata": {},
   "outputs": [],
   "source": [
    "lr = LogisticRegression()\n",
    "lr.fit(X_train, y_train)\n",
    "preds = lr.predict(X_test)"
   ]
  },
  {
   "cell_type": "markdown",
   "metadata": {},
   "source": [
    "Again, since the positive class is rare, using an accuracy score can be misleading (you'd get a high score if you'd just predict that NO pokemon are legendary), but let's see it:"
   ]
  },
  {
   "cell_type": "code",
   "execution_count": 45,
   "metadata": {},
   "outputs": [
    {
     "data": {
      "text/plain": [
       "0.9932885906040269"
      ]
     },
     "execution_count": 45,
     "metadata": {},
     "output_type": "execute_result"
    }
   ],
   "source": [
    "lr.score(X_test, y_test) "
   ]
  },
  {
   "cell_type": "markdown",
   "metadata": {},
   "source": [
    "### Decision Scores\n",
    "\n",
    "Since we're working with a rare positive class need need to have good precision and recall for our model.\n",
    "The logistic regression model has a decision_function that outputs the confidence it has that a pokemon is a legendary, so we will use that.\n",
    "\n",
    "Let's also use cross validation with our model."
   ]
  },
  {
   "cell_type": "code",
   "execution_count": 46,
   "metadata": {},
   "outputs": [],
   "source": [
    "from sklearn.model_selection import cross_val_predict\n",
    "\n",
    "y_scores = cross_val_predict(lr, X_train, y_train, cv = 3,\n",
    "                             method = 'decision_function')"
   ]
  },
  {
   "cell_type": "markdown",
   "metadata": {},
   "source": [
    "### Precision-Recall Curve"
   ]
  },
  {
   "cell_type": "code",
   "execution_count": 47,
   "metadata": {
    "scrolled": true
   },
   "outputs": [
    {
     "data": {
      "image/png": "[encoded data removed]",
      "text/plain": [
       "<Figure size 432x288 with 1 Axes>"
      ]
     },
     "metadata": {},
     "output_type": "display_data"
    }
   ],
   "source": [
    "from sklearn.metrics import precision_recall_curve\n",
    "\n",
    "precisions, recalls, thresholds = precision_recall_curve(y_train, y_scores)\n",
    "\n",
    "def plot_precision_recall_vs_threshold(precisions, recalls, thresholds):\n",
    "    plt.plot(thresholds, precisions[:-1], \"b--\", label = \"Precision\")\n",
    "    plt.plot(thresholds, recalls[:-1], \"g-\", label=\"Recall\")\n",
    "    plt.legend(loc=\"lower right\", fontsize=12)\n",
    "    plt.xlabel(\"Threshold\", fontsize=11)        \n",
    "    plt.grid(True, linewidth=.1)                             \n",
    "    plt.axis([-5, 6, -.5, 1.3])\n",
    "    plt.title(\"Precision-Recall Curve\", loc=\"center\")\n",
    "    \n",
    "plot_precision_recall_vs_threshold(precisions, recalls, thresholds)"
   ]
  },
  {
   "cell_type": "code",
   "execution_count": 48,
   "metadata": {},
   "outputs": [
    {
     "data": {
      "text/html": [
       "<div>\n",
       "<style scoped>\n",
       "    .dataframe tbody tr th:only-of-type {\n",
       "        vertical-align: middle;\n",
       "    }\n",
       "\n",
       "    .dataframe tbody tr th {\n",
       "        vertical-align: top;\n",
       "    }\n",
       "\n",
       "    .dataframe thead th {\n",
       "        text-align: right;\n",
       "    }\n",
       "</style>\n",
       "<table border=\"1\" class=\"dataframe\">\n",
       "  <thead>\n",
       "    <tr style=\"text-align: right;\">\n",
       "      <th></th>\n",
       "      <th>precision</th>\n",
       "      <th>recall</th>\n",
       "      <th>thresholds</th>\n",
       "    </tr>\n",
       "  </thead>\n",
       "  <tbody>\n",
       "    <tr>\n",
       "      <th>64</th>\n",
       "      <td>0.784615</td>\n",
       "      <td>0.962264</td>\n",
       "      <td>-2.719776</td>\n",
       "    </tr>\n",
       "    <tr>\n",
       "      <th>65</th>\n",
       "      <td>0.796875</td>\n",
       "      <td>0.962264</td>\n",
       "      <td>-2.473624</td>\n",
       "    </tr>\n",
       "    <tr>\n",
       "      <th>66</th>\n",
       "      <td>0.822581</td>\n",
       "      <td>0.962264</td>\n",
       "      <td>-2.017445</td>\n",
       "    </tr>\n",
       "    <tr>\n",
       "      <th>67</th>\n",
       "      <td>0.836066</td>\n",
       "      <td>0.962264</td>\n",
       "      <td>-1.981768</td>\n",
       "    </tr>\n",
       "    <tr>\n",
       "      <th>68</th>\n",
       "      <td>0.864407</td>\n",
       "      <td>0.962264</td>\n",
       "      <td>-1.964976</td>\n",
       "    </tr>\n",
       "    <tr>\n",
       "      <th>69</th>\n",
       "      <td>0.879310</td>\n",
       "      <td>0.962264</td>\n",
       "      <td>-1.896145</td>\n",
       "    </tr>\n",
       "    <tr>\n",
       "      <th>70</th>\n",
       "      <td>0.894737</td>\n",
       "      <td>0.962264</td>\n",
       "      <td>-1.314822</td>\n",
       "    </tr>\n",
       "    <tr>\n",
       "      <th>71</th>\n",
       "      <td>0.910714</td>\n",
       "      <td>0.962264</td>\n",
       "      <td>-1.112062</td>\n",
       "    </tr>\n",
       "    <tr>\n",
       "      <th>72</th>\n",
       "      <td>0.927273</td>\n",
       "      <td>0.962264</td>\n",
       "      <td>-0.136130</td>\n",
       "    </tr>\n",
       "    <tr>\n",
       "      <th>73</th>\n",
       "      <td>0.944444</td>\n",
       "      <td>0.962264</td>\n",
       "      <td>0.156139</td>\n",
       "    </tr>\n",
       "    <tr>\n",
       "      <th>74</th>\n",
       "      <td>0.943396</td>\n",
       "      <td>0.943396</td>\n",
       "      <td>0.331196</td>\n",
       "    </tr>\n",
       "    <tr>\n",
       "      <th>75</th>\n",
       "      <td>0.961538</td>\n",
       "      <td>0.943396</td>\n",
       "      <td>0.584181</td>\n",
       "    </tr>\n",
       "    <tr>\n",
       "      <th>76</th>\n",
       "      <td>0.960784</td>\n",
       "      <td>0.924528</td>\n",
       "      <td>0.644413</td>\n",
       "    </tr>\n",
       "  </tbody>\n",
       "</table>\n",
       "</div>"
      ],
      "text/plain": [
       "    precision    recall  thresholds\n",
       "64   0.784615  0.962264   -2.719776\n",
       "65   0.796875  0.962264   -2.473624\n",
       "66   0.822581  0.962264   -2.017445\n",
       "67   0.836066  0.962264   -1.981768\n",
       "68   0.864407  0.962264   -1.964976\n",
       "69   0.879310  0.962264   -1.896145\n",
       "70   0.894737  0.962264   -1.314822\n",
       "71   0.910714  0.962264   -1.112062\n",
       "72   0.927273  0.962264   -0.136130\n",
       "73   0.944444  0.962264    0.156139\n",
       "74   0.943396  0.943396    0.331196\n",
       "75   0.961538  0.943396    0.584181\n",
       "76   0.960784  0.924528    0.644413"
      ]
     },
     "execution_count": 48,
     "metadata": {},
     "output_type": "execute_result"
    }
   ],
   "source": [
    "# We'd like to maximize recall, while having good\n",
    "names = [\"precision\", \"recall\", \"thresholds\"]\n",
    "prt_dict = {name:nums for name, nums in zip(names, [precisions[:-1], recalls[:-1], thresholds])}\n",
    "prt_df = pd.DataFrame(prt_dict)\n",
    "prt_df[prt_df[\"recall\"].between(.92,.98)]  # this is the recall range we're interested in, based on the curve above."
   ]
  },
  {
   "cell_type": "markdown",
   "metadata": {},
   "source": [
    "We decide that the threshold of -0.136130 is best since it'll keep the recall around around #####80%, while keeping the precision relatively high. "
   ]
  },
  {
   "cell_type": "code",
   "execution_count": 52,
   "metadata": {},
   "outputs": [],
   "source": [
    "new_threshold = -0.136129"
   ]
  },
  {
   "cell_type": "markdown",
   "metadata": {},
   "source": [
    "#### Testing and Setting the new Threshold"
   ]
  },
  {
   "cell_type": "code",
   "execution_count": 53,
   "metadata": {},
   "outputs": [
    {
     "name": "stdout",
     "output_type": "stream",
     "text": [
      "precision score: 0.9444444444444444\n",
      "   recall score: 0.9622641509433962\n"
     ]
    }
   ],
   "source": [
    "from sklearn.metrics import precision_score, recall_score\n",
    "\n",
    "new_pred = y_scores >= new_threshold\n",
    "\n",
    "print(f'precision score: {precision_score(y_train, new_pred)}\\n\\\n",
    "   recall score: {recall_score(y_train, new_pred)}')"
   ]
  },
  {
   "cell_type": "markdown",
   "metadata": {},
   "source": [
    "### Test Set\n",
    "\n",
    "We'll finally how the model performs with data it hasn't seen."
   ]
  },
  {
   "cell_type": "code",
   "execution_count": 55,
   "metadata": {},
   "outputs": [
    {
     "name": "stdout",
     "output_type": "stream",
     "text": [
      "precision score: 1.0\n",
      "   recall score: 0.9333333333333333\n"
     ]
    }
   ],
   "source": [
    "test_preds = lr.decision_function(X_test) >=  new_threshold\n",
    "\n",
    "print(f'precision score: {precision_score(y_test, test_preds)}\\n\\\n",
    "   recall score: {recall_score(y_test, test_preds)}')"
   ]
  },
  {
   "cell_type": "markdown",
   "metadata": {},
   "source": [
    "The model correctly labeled over 90% of legendary pokemon in the test set as a legendary.  \n",
    "It did not label any regular pokemon as legendary.\n",
    "\n",
    "Let's look at the coefficients of the model to see which features the model believes contribute most to being legendary."
   ]
  },
  {
   "cell_type": "code",
   "execution_count": 60,
   "metadata": {},
   "outputs": [
    {
     "data": {
      "text/plain": [
       "<matplotlib.axes._subplots.AxesSubplot at 0x1ab55b00e50>"
      ]
     },
     "execution_count": 60,
     "metadata": {},
     "output_type": "execute_result"
    },
    {
     "data": {
      "image/png": "[encoded data removed]",
      "text/plain": [
       "<Figure size 432x288 with 1 Axes>"
      ]
     },
     "metadata": {},
     "output_type": "display_data"
    }
   ],
   "source": [
    "features = list(X_train.columns)\n",
    "coefs = list(lr.coef_[0])\n",
    "\n",
    "pd.DataFrame({'features':features,\n",
    "              'coefs':coefs})\\\n",
    "  .sort_values(by=['coefs'], ascending=False)\\\n",
    "  .set_index(\"features\")\\\n",
    "  .plot.barh(legend=False)"
   ]
  },
  {
   "cell_type": "markdown",
   "metadata": {},
   "source": [
    "Since ability to breed is such a large indicator that a pokemon is legendary, let's see all the pokemon that can't breed and aren't legendary"
   ]
  },
  {
   "cell_type": "code",
   "execution_count": 85,
   "metadata": {},
   "outputs": [
    {
     "data": {
      "text/html": [
       "<div>\n",
       "<style scoped>\n",
       "    .dataframe tbody tr th:only-of-type {\n",
       "        vertical-align: middle;\n",
       "    }\n",
       "\n",
       "    .dataframe tbody tr th {\n",
       "        vertical-align: top;\n",
       "    }\n",
       "\n",
       "    .dataframe thead th {\n",
       "        text-align: right;\n",
       "    }\n",
       "</style>\n",
       "<table border=\"1\" class=\"dataframe\">\n",
       "  <thead>\n",
       "    <tr style=\"text-align: right;\">\n",
       "      <th></th>\n",
       "      <th>#</th>\n",
       "      <th>name</th>\n",
       "      <th>type_1</th>\n",
       "      <th>type_2</th>\n",
       "      <th>total</th>\n",
       "      <th>hp</th>\n",
       "      <th>attack</th>\n",
       "      <th>defense</th>\n",
       "      <th>sp_atk</th>\n",
       "      <th>sp_def</th>\n",
       "      <th>speed</th>\n",
       "      <th>generation</th>\n",
       "      <th>legendary</th>\n",
       "      <th>can_breed</th>\n",
       "      <th>capture_rate_clean</th>\n",
       "    </tr>\n",
       "  </thead>\n",
       "  <tbody>\n",
       "    <tr>\n",
       "      <th>35</th>\n",
       "      <td>30</td>\n",
       "      <td>Nidorina</td>\n",
       "      <td>Poison</td>\n",
       "      <td>NaN</td>\n",
       "      <td>365</td>\n",
       "      <td>70</td>\n",
       "      <td>62</td>\n",
       "      <td>67</td>\n",
       "      <td>55</td>\n",
       "      <td>55</td>\n",
       "      <td>56</td>\n",
       "      <td>1</td>\n",
       "      <td>False</td>\n",
       "      <td>0</td>\n",
       "      <td>120</td>\n",
       "    </tr>\n",
       "    <tr>\n",
       "      <th>36</th>\n",
       "      <td>31</td>\n",
       "      <td>Nidoqueen</td>\n",
       "      <td>Poison</td>\n",
       "      <td>Ground</td>\n",
       "      <td>505</td>\n",
       "      <td>90</td>\n",
       "      <td>92</td>\n",
       "      <td>87</td>\n",
       "      <td>75</td>\n",
       "      <td>85</td>\n",
       "      <td>76</td>\n",
       "      <td>1</td>\n",
       "      <td>False</td>\n",
       "      <td>0</td>\n",
       "      <td>45</td>\n",
       "    </tr>\n",
       "    <tr>\n",
       "      <th>186</th>\n",
       "      <td>172</td>\n",
       "      <td>Pichu</td>\n",
       "      <td>Electric</td>\n",
       "      <td>NaN</td>\n",
       "      <td>205</td>\n",
       "      <td>20</td>\n",
       "      <td>40</td>\n",
       "      <td>15</td>\n",
       "      <td>35</td>\n",
       "      <td>35</td>\n",
       "      <td>60</td>\n",
       "      <td>2</td>\n",
       "      <td>False</td>\n",
       "      <td>0</td>\n",
       "      <td>190</td>\n",
       "    </tr>\n",
       "    <tr>\n",
       "      <th>187</th>\n",
       "      <td>173</td>\n",
       "      <td>Cleffa</td>\n",
       "      <td>Fairy</td>\n",
       "      <td>NaN</td>\n",
       "      <td>218</td>\n",
       "      <td>50</td>\n",
       "      <td>25</td>\n",
       "      <td>28</td>\n",
       "      <td>45</td>\n",
       "      <td>55</td>\n",
       "      <td>15</td>\n",
       "      <td>2</td>\n",
       "      <td>False</td>\n",
       "      <td>0</td>\n",
       "      <td>150</td>\n",
       "    </tr>\n",
       "    <tr>\n",
       "      <th>188</th>\n",
       "      <td>174</td>\n",
       "      <td>Igglybuff</td>\n",
       "      <td>Normal</td>\n",
       "      <td>Fairy</td>\n",
       "      <td>210</td>\n",
       "      <td>90</td>\n",
       "      <td>30</td>\n",
       "      <td>15</td>\n",
       "      <td>40</td>\n",
       "      <td>20</td>\n",
       "      <td>15</td>\n",
       "      <td>2</td>\n",
       "      <td>False</td>\n",
       "      <td>0</td>\n",
       "      <td>170</td>\n",
       "    </tr>\n",
       "    <tr>\n",
       "      <th>189</th>\n",
       "      <td>175</td>\n",
       "      <td>Togepi</td>\n",
       "      <td>Fairy</td>\n",
       "      <td>NaN</td>\n",
       "      <td>245</td>\n",
       "      <td>35</td>\n",
       "      <td>20</td>\n",
       "      <td>65</td>\n",
       "      <td>40</td>\n",
       "      <td>65</td>\n",
       "      <td>20</td>\n",
       "      <td>2</td>\n",
       "      <td>False</td>\n",
       "      <td>0</td>\n",
       "      <td>190</td>\n",
       "    </tr>\n",
       "    <tr>\n",
       "      <th>216</th>\n",
       "      <td>201</td>\n",
       "      <td>Unown</td>\n",
       "      <td>Psychic</td>\n",
       "      <td>NaN</td>\n",
       "      <td>336</td>\n",
       "      <td>48</td>\n",
       "      <td>72</td>\n",
       "      <td>48</td>\n",
       "      <td>72</td>\n",
       "      <td>48</td>\n",
       "      <td>48</td>\n",
       "      <td>2</td>\n",
       "      <td>False</td>\n",
       "      <td>0</td>\n",
       "      <td>225</td>\n",
       "    </tr>\n",
       "    <tr>\n",
       "      <th>255</th>\n",
       "      <td>236</td>\n",
       "      <td>Tyrogue</td>\n",
       "      <td>Fighting</td>\n",
       "      <td>NaN</td>\n",
       "      <td>210</td>\n",
       "      <td>35</td>\n",
       "      <td>35</td>\n",
       "      <td>35</td>\n",
       "      <td>35</td>\n",
       "      <td>35</td>\n",
       "      <td>35</td>\n",
       "      <td>2</td>\n",
       "      <td>False</td>\n",
       "      <td>0</td>\n",
       "      <td>75</td>\n",
       "    </tr>\n",
       "    <tr>\n",
       "      <th>257</th>\n",
       "      <td>238</td>\n",
       "      <td>Smoochum</td>\n",
       "      <td>Ice</td>\n",
       "      <td>Psychic</td>\n",
       "      <td>305</td>\n",
       "      <td>45</td>\n",
       "      <td>30</td>\n",
       "      <td>15</td>\n",
       "      <td>85</td>\n",
       "      <td>65</td>\n",
       "      <td>65</td>\n",
       "      <td>2</td>\n",
       "      <td>False</td>\n",
       "      <td>0</td>\n",
       "      <td>45</td>\n",
       "    </tr>\n",
       "    <tr>\n",
       "      <th>258</th>\n",
       "      <td>239</td>\n",
       "      <td>Elekid</td>\n",
       "      <td>Electric</td>\n",
       "      <td>NaN</td>\n",
       "      <td>360</td>\n",
       "      <td>45</td>\n",
       "      <td>63</td>\n",
       "      <td>37</td>\n",
       "      <td>65</td>\n",
       "      <td>55</td>\n",
       "      <td>95</td>\n",
       "      <td>2</td>\n",
       "      <td>False</td>\n",
       "      <td>0</td>\n",
       "      <td>45</td>\n",
       "    </tr>\n",
       "    <tr>\n",
       "      <th>259</th>\n",
       "      <td>240</td>\n",
       "      <td>Magby</td>\n",
       "      <td>Fire</td>\n",
       "      <td>NaN</td>\n",
       "      <td>365</td>\n",
       "      <td>45</td>\n",
       "      <td>75</td>\n",
       "      <td>37</td>\n",
       "      <td>70</td>\n",
       "      <td>55</td>\n",
       "      <td>83</td>\n",
       "      <td>2</td>\n",
       "      <td>False</td>\n",
       "      <td>0</td>\n",
       "      <td>45</td>\n",
       "    </tr>\n",
       "    <tr>\n",
       "      <th>322</th>\n",
       "      <td>298</td>\n",
       "      <td>Azurill</td>\n",
       "      <td>Normal</td>\n",
       "      <td>Fairy</td>\n",
       "      <td>190</td>\n",
       "      <td>50</td>\n",
       "      <td>20</td>\n",
       "      <td>40</td>\n",
       "      <td>20</td>\n",
       "      <td>40</td>\n",
       "      <td>20</td>\n",
       "      <td>3</td>\n",
       "      <td>False</td>\n",
       "      <td>0</td>\n",
       "      <td>150</td>\n",
       "    </tr>\n",
       "    <tr>\n",
       "      <th>394</th>\n",
       "      <td>360</td>\n",
       "      <td>Wynaut</td>\n",
       "      <td>Psychic</td>\n",
       "      <td>NaN</td>\n",
       "      <td>260</td>\n",
       "      <td>95</td>\n",
       "      <td>23</td>\n",
       "      <td>48</td>\n",
       "      <td>23</td>\n",
       "      <td>48</td>\n",
       "      <td>23</td>\n",
       "      <td>3</td>\n",
       "      <td>False</td>\n",
       "      <td>0</td>\n",
       "      <td>125</td>\n",
       "    </tr>\n",
       "    <tr>\n",
       "      <th>451</th>\n",
       "      <td>406</td>\n",
       "      <td>Budew</td>\n",
       "      <td>Grass</td>\n",
       "      <td>Poison</td>\n",
       "      <td>280</td>\n",
       "      <td>40</td>\n",
       "      <td>30</td>\n",
       "      <td>35</td>\n",
       "      <td>50</td>\n",
       "      <td>70</td>\n",
       "      <td>55</td>\n",
       "      <td>4</td>\n",
       "      <td>False</td>\n",
       "      <td>0</td>\n",
       "      <td>255</td>\n",
       "    </tr>\n",
       "    <tr>\n",
       "      <th>481</th>\n",
       "      <td>433</td>\n",
       "      <td>Chingling</td>\n",
       "      <td>Psychic</td>\n",
       "      <td>NaN</td>\n",
       "      <td>285</td>\n",
       "      <td>45</td>\n",
       "      <td>30</td>\n",
       "      <td>50</td>\n",
       "      <td>65</td>\n",
       "      <td>50</td>\n",
       "      <td>45</td>\n",
       "      <td>4</td>\n",
       "      <td>False</td>\n",
       "      <td>0</td>\n",
       "      <td>120</td>\n",
       "    </tr>\n",
       "    <tr>\n",
       "      <th>486</th>\n",
       "      <td>438</td>\n",
       "      <td>Bonsly</td>\n",
       "      <td>Rock</td>\n",
       "      <td>NaN</td>\n",
       "      <td>290</td>\n",
       "      <td>50</td>\n",
       "      <td>80</td>\n",
       "      <td>95</td>\n",
       "      <td>10</td>\n",
       "      <td>45</td>\n",
       "      <td>10</td>\n",
       "      <td>4</td>\n",
       "      <td>False</td>\n",
       "      <td>0</td>\n",
       "      <td>255</td>\n",
       "    </tr>\n",
       "    <tr>\n",
       "      <th>487</th>\n",
       "      <td>439</td>\n",
       "      <td>Mime Jr.</td>\n",
       "      <td>Psychic</td>\n",
       "      <td>Fairy</td>\n",
       "      <td>310</td>\n",
       "      <td>20</td>\n",
       "      <td>25</td>\n",
       "      <td>45</td>\n",
       "      <td>70</td>\n",
       "      <td>90</td>\n",
       "      <td>60</td>\n",
       "      <td>4</td>\n",
       "      <td>False</td>\n",
       "      <td>0</td>\n",
       "      <td>145</td>\n",
       "    </tr>\n",
       "    <tr>\n",
       "      <th>488</th>\n",
       "      <td>440</td>\n",
       "      <td>Happiny</td>\n",
       "      <td>Normal</td>\n",
       "      <td>NaN</td>\n",
       "      <td>220</td>\n",
       "      <td>100</td>\n",
       "      <td>5</td>\n",
       "      <td>5</td>\n",
       "      <td>15</td>\n",
       "      <td>65</td>\n",
       "      <td>30</td>\n",
       "      <td>4</td>\n",
       "      <td>False</td>\n",
       "      <td>0</td>\n",
       "      <td>130</td>\n",
       "    </tr>\n",
       "    <tr>\n",
       "      <th>495</th>\n",
       "      <td>446</td>\n",
       "      <td>Munchlax</td>\n",
       "      <td>Normal</td>\n",
       "      <td>NaN</td>\n",
       "      <td>390</td>\n",
       "      <td>135</td>\n",
       "      <td>85</td>\n",
       "      <td>40</td>\n",
       "      <td>40</td>\n",
       "      <td>85</td>\n",
       "      <td>5</td>\n",
       "      <td>4</td>\n",
       "      <td>False</td>\n",
       "      <td>0</td>\n",
       "      <td>50</td>\n",
       "    </tr>\n",
       "    <tr>\n",
       "      <th>496</th>\n",
       "      <td>447</td>\n",
       "      <td>Riolu</td>\n",
       "      <td>Fighting</td>\n",
       "      <td>NaN</td>\n",
       "      <td>285</td>\n",
       "      <td>40</td>\n",
       "      <td>70</td>\n",
       "      <td>40</td>\n",
       "      <td>35</td>\n",
       "      <td>40</td>\n",
       "      <td>60</td>\n",
       "      <td>4</td>\n",
       "      <td>False</td>\n",
       "      <td>0</td>\n",
       "      <td>75</td>\n",
       "    </tr>\n",
       "    <tr>\n",
       "      <th>508</th>\n",
       "      <td>458</td>\n",
       "      <td>Mantyke</td>\n",
       "      <td>Water</td>\n",
       "      <td>Flying</td>\n",
       "      <td>345</td>\n",
       "      <td>45</td>\n",
       "      <td>20</td>\n",
       "      <td>50</td>\n",
       "      <td>60</td>\n",
       "      <td>120</td>\n",
       "      <td>50</td>\n",
       "      <td>4</td>\n",
       "      <td>False</td>\n",
       "      <td>0</td>\n",
       "      <td>25</td>\n",
       "    </tr>\n",
       "  </tbody>\n",
       "</table>\n",
       "</div>"
      ],
      "text/plain": [
       "       #       name    type_1   type_2  total   hp  attack  defense  sp_atk  \\\n",
       "35    30   Nidorina    Poison      NaN    365   70      62       67      55   \n",
       "36    31  Nidoqueen    Poison   Ground    505   90      92       87      75   \n",
       "186  172      Pichu  Electric      NaN    205   20      40       15      35   \n",
       "187  173     Cleffa     Fairy      NaN    218   50      25       28      45   \n",
       "188  174  Igglybuff    Normal    Fairy    210   90      30       15      40   \n",
       "189  175     Togepi     Fairy      NaN    245   35      20       65      40   \n",
       "216  201      Unown   Psychic      NaN    336   48      72       48      72   \n",
       "255  236    Tyrogue  Fighting      NaN    210   35      35       35      35   \n",
       "257  238   Smoochum       Ice  Psychic    305   45      30       15      85   \n",
       "258  239     Elekid  Electric      NaN    360   45      63       37      65   \n",
       "259  240      Magby      Fire      NaN    365   45      75       37      70   \n",
       "322  298    Azurill    Normal    Fairy    190   50      20       40      20   \n",
       "394  360     Wynaut   Psychic      NaN    260   95      23       48      23   \n",
       "451  406      Budew     Grass   Poison    280   40      30       35      50   \n",
       "481  433  Chingling   Psychic      NaN    285   45      30       50      65   \n",
       "486  438     Bonsly      Rock      NaN    290   50      80       95      10   \n",
       "487  439   Mime Jr.   Psychic    Fairy    310   20      25       45      70   \n",
       "488  440    Happiny    Normal      NaN    220  100       5        5      15   \n",
       "495  446   Munchlax    Normal      NaN    390  135      85       40      40   \n",
       "496  447      Riolu  Fighting      NaN    285   40      70       40      35   \n",
       "508  458    Mantyke     Water   Flying    345   45      20       50      60   \n",
       "\n",
       "     sp_def  speed  generation  legendary  can_breed  capture_rate_clean  \n",
       "35       55     56           1      False          0                 120  \n",
       "36       85     76           1      False          0                  45  \n",
       "186      35     60           2      False          0                 190  \n",
       "187      55     15           2      False          0                 150  \n",
       "188      20     15           2      False          0                 170  \n",
       "189      65     20           2      False          0                 190  \n",
       "216      48     48           2      False          0                 225  \n",
       "255      35     35           2      False          0                  75  \n",
       "257      65     65           2      False          0                  45  \n",
       "258      55     95           2      False          0                  45  \n",
       "259      55     83           2      False          0                  45  \n",
       "322      40     20           3      False          0                 150  \n",
       "394      48     23           3      False          0                 125  \n",
       "451      70     55           4      False          0                 255  \n",
       "481      50     45           4      False          0                 120  \n",
       "486      45     10           4      False          0                 255  \n",
       "487      90     60           4      False          0                 145  \n",
       "488      65     30           4      False          0                 130  \n",
       "495      85      5           4      False          0                  50  \n",
       "496      40     60           4      False          0                  75  \n",
       "508     120     50           4      False          0                  25  "
      ]
     },
     "execution_count": 85,
     "metadata": {},
     "output_type": "execute_result"
    }
   ],
   "source": [
    "data[(data['can_breed'] == 0) & ~(data['legendary'])]"
   ]
  },
  {
   "cell_type": "markdown",
   "metadata": {},
   "source": [
    "Which pokemon did the model misclassify?"
   ]
  },
  {
   "cell_type": "code",
   "execution_count": 87,
   "metadata": {},
   "outputs": [
    {
     "data": {
      "text/html": [
       "<div>\n",
       "<style scoped>\n",
       "    .dataframe tbody tr th:only-of-type {\n",
       "        vertical-align: middle;\n",
       "    }\n",
       "\n",
       "    .dataframe tbody tr th {\n",
       "        vertical-align: top;\n",
       "    }\n",
       "\n",
       "    .dataframe thead th {\n",
       "        text-align: right;\n",
       "    }\n",
       "</style>\n",
       "<table border=\"1\" class=\"dataframe\">\n",
       "  <thead>\n",
       "    <tr style=\"text-align: right;\">\n",
       "      <th></th>\n",
       "      <th>name</th>\n",
       "      <th>pred</th>\n",
       "      <th>legendary</th>\n",
       "    </tr>\n",
       "  </thead>\n",
       "  <tbody>\n",
       "    <tr>\n",
       "      <th>263</th>\n",
       "      <td>Entei</td>\n",
       "      <td>False</td>\n",
       "      <td>True</td>\n",
       "    </tr>\n",
       "    <tr>\n",
       "      <th>412</th>\n",
       "      <td>Metagross</td>\n",
       "      <td>True</td>\n",
       "      <td>False</td>\n",
       "    </tr>\n",
       "    <tr>\n",
       "      <th>698</th>\n",
       "      <td>Volcarona</td>\n",
       "      <td>True</td>\n",
       "      <td>False</td>\n",
       "    </tr>\n",
       "  </tbody>\n",
       "</table>\n",
       "</div>"
      ],
      "text/plain": [
       "          name   pred  legendary\n",
       "263      Entei  False       True\n",
       "412  Metagross   True      False\n",
       "698  Volcarona   True      False"
      ]
     },
     "execution_count": 87,
     "metadata": {},
     "output_type": "execute_result"
    }
   ],
   "source": [
    "combined = pd.concat([X_train, X_test], axis =0)\n",
    "\n",
    "combined['pred'] = lr.decision_function(combined) >= new_threshold\n",
    "x = combined.merge(data, how='inner', left_index=True, right_index=True)\\\n",
    "        .sort_index()\\\n",
    "        .loc[:,['name', 'pred', 'legendary']]\n",
    "\n",
    "x[x['pred'] != x['legendary']]"
   ]
  },
  {
   "cell_type": "code",
   "execution_count": 89,
   "metadata": {},
   "outputs": [
    {
     "data": {
      "text/html": [
       "<div>\n",
       "<style scoped>\n",
       "    .dataframe tbody tr th:only-of-type {\n",
       "        vertical-align: middle;\n",
       "    }\n",
       "\n",
       "    .dataframe tbody tr th {\n",
       "        vertical-align: top;\n",
       "    }\n",
       "\n",
       "    .dataframe thead th {\n",
       "        text-align: right;\n",
       "    }\n",
       "</style>\n",
       "<table border=\"1\" class=\"dataframe\">\n",
       "  <thead>\n",
       "    <tr style=\"text-align: right;\">\n",
       "      <th></th>\n",
       "      <th>#</th>\n",
       "      <th>name</th>\n",
       "      <th>type_1</th>\n",
       "      <th>type_2</th>\n",
       "      <th>total</th>\n",
       "      <th>hp</th>\n",
       "      <th>attack</th>\n",
       "      <th>defense</th>\n",
       "      <th>sp_atk</th>\n",
       "      <th>sp_def</th>\n",
       "      <th>speed</th>\n",
       "      <th>generation</th>\n",
       "      <th>legendary</th>\n",
       "      <th>can_breed</th>\n",
       "      <th>capture_rate_clean</th>\n",
       "    </tr>\n",
       "  </thead>\n",
       "  <tbody>\n",
       "    <tr>\n",
       "      <th>263</th>\n",
       "      <td>244</td>\n",
       "      <td>Entei</td>\n",
       "      <td>Fire</td>\n",
       "      <td>NaN</td>\n",
       "      <td>580</td>\n",
       "      <td>115</td>\n",
       "      <td>115</td>\n",
       "      <td>85</td>\n",
       "      <td>90</td>\n",
       "      <td>75</td>\n",
       "      <td>100</td>\n",
       "      <td>2</td>\n",
       "      <td>True</td>\n",
       "      <td>0</td>\n",
       "      <td>3</td>\n",
       "    </tr>\n",
       "    <tr>\n",
       "      <th>412</th>\n",
       "      <td>376</td>\n",
       "      <td>Metagross</td>\n",
       "      <td>Steel</td>\n",
       "      <td>Psychic</td>\n",
       "      <td>600</td>\n",
       "      <td>80</td>\n",
       "      <td>135</td>\n",
       "      <td>130</td>\n",
       "      <td>95</td>\n",
       "      <td>90</td>\n",
       "      <td>70</td>\n",
       "      <td>3</td>\n",
       "      <td>False</td>\n",
       "      <td>1</td>\n",
       "      <td>3</td>\n",
       "    </tr>\n",
       "    <tr>\n",
       "      <th>698</th>\n",
       "      <td>637</td>\n",
       "      <td>Volcarona</td>\n",
       "      <td>Bug</td>\n",
       "      <td>Fire</td>\n",
       "      <td>550</td>\n",
       "      <td>85</td>\n",
       "      <td>60</td>\n",
       "      <td>65</td>\n",
       "      <td>135</td>\n",
       "      <td>105</td>\n",
       "      <td>100</td>\n",
       "      <td>5</td>\n",
       "      <td>False</td>\n",
       "      <td>1</td>\n",
       "      <td>15</td>\n",
       "    </tr>\n",
       "  </tbody>\n",
       "</table>\n",
       "</div>"
      ],
      "text/plain": [
       "       #       name type_1   type_2  total   hp  attack  defense  sp_atk  \\\n",
       "263  244      Entei   Fire      NaN    580  115     115       85      90   \n",
       "412  376  Metagross  Steel  Psychic    600   80     135      130      95   \n",
       "698  637  Volcarona    Bug     Fire    550   85      60       65     135   \n",
       "\n",
       "     sp_def  speed  generation  legendary  can_breed  capture_rate_clean  \n",
       "263      75    100           2       True          0                   3  \n",
       "412      90     70           3      False          1                   3  \n",
       "698     105    100           5      False          1                  15  "
      ]
     },
     "execution_count": 89,
     "metadata": {},
     "output_type": "execute_result"
    }
   ],
   "source": [
    "# let's look at the above pokemon\n",
    "data[data['name'].isin(['Entei', 'Metagross', 'Volcarona'])]"
   ]
  },
  {
   "cell_type": "markdown",
   "metadata": {},
   "source": [
    "We misclassify Metagross and Volcarona, likely because their high stats and very low capture make them look like legendary pokemon.\n",
    "\n",
    "Entei is an interesting case since it may represent a chance for improvement in the model. It was still misclassified as a regular pokemon even though (1) it can't breed, (2) has the lowest capture rate possible, and (3) has high stats. "
   ]
  },
  {
   "cell_type": "markdown",
   "metadata": {},
   "source": [
    "### Conclusion\n",
    "\n",
    "We achieved a precision/recall in the 90s for the test set. Based on the model, it seems a pokemon that's can't breed it's a large indicator that a pokemon is legendary. \n",
    "\n",
    "However, for regular pokemon that can't breed, the model that can use it's capture rate and it's stats, since these pokemon typically have combination of lower stats and higher capture rates.\n",
    "\n",
    "## Next Time:\n",
    "\n",
    "see if you can make any actions from the exploration phase especially the correlation map.\n",
    "\n",
    "see if you can make so that we can see which features predict being legendary the best.\n",
    "\n",
    "By using the correlation map, we achieve around r/p of 90/79 which is good.\n",
    "\n",
    "Next let's make a function where you can type in any pokeon name and we can see what the classifier thinks it is.\n",
    "\n",
    "Maybe we can try using grid search, RCEV to see which features are best to keep.\n",
    "\n",
    "For git hub, I might just remove the experimentation piece. Else I can make a transformer or a combined dataframe to see which  (in a neat way) to see which pokemon the classfier erroneouly classifies."
   ]
  },
  {
   "cell_type": "markdown",
   "metadata": {},
   "source": [
    "## Experimenting\n",
    "\n",
    "let's make a function that takes in a pokemon name and then runs the model and see if this is a pokemon or not!"
   ]
  },
  {
   "cell_type": "code",
   "execution_count": 79,
   "metadata": {},
   "outputs": [],
   "source": [
    "def find_legend_status(input_name):\n",
    "    \n",
    "    input_name = input_name.lower().capitalize()\n",
    "    input_index = data[data['name'] == input_name].index[0]\n",
    "    try:\n",
    "        score = lr.decision_function(X_train.loc[[input_index],:])\n",
    "    except KeyError:\n",
    "        score =  lr.decision_function(X_test.loc[[input_index],:])\n",
    "    label = score >= new_threshold\n",
    "    return score, label\n"
   ]
  },
  {
   "cell_type": "code",
   "execution_count": 90,
   "metadata": {},
   "outputs": [
    {
     "data": {
      "text/plain": [
       "(array([-0.67656636]), array([False]))"
      ]
     },
     "execution_count": 90,
     "metadata": {},
     "output_type": "execute_result"
    }
   ],
   "source": [
    "find_legend_status(\"entei\")"
   ]
  },
  {
   "cell_type": "code",
   "execution_count": null,
   "metadata": {},
   "outputs": [],
   "source": []
  }
 ],
 "metadata": {
  "kernelspec": {
   "display_name": "Python 3",
   "language": "python",
   "name": "python3"
  },
  "language_info": {
   "codemirror_mode": {
    "name": "ipython",
    "version": 3
   },
   "file_extension": ".py",
   "mimetype": "text/x-python",
   "name": "python",
   "nbconvert_exporter": "python",
   "pygments_lexer": "ipython3",
   "version": "3.8.3"
  }
 },
 "nbformat": 4,
 "nbformat_minor": 4
}
