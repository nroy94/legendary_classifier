{
 "cells": [
  {
   "cell_type": "markdown",
   "metadata": {},
   "source": [
    "## Introduction\n",
    "\n",
    "We want to be able to indentify legendary pokemon based on type, stats, and generation. This will be a binary classification problem."
   ]
  },
  {
   "cell_type": "code",
   "execution_count": 1,
   "metadata": {},
   "outputs": [],
   "source": [
    "import pandas as pd\n",
    "import numpy as np\n",
    "import re\n",
    "import seaborn as sns\n",
    "import matplotlib.pyplot as plt\n",
    "%matplotlib inline"
   ]
  },
  {
   "cell_type": "code",
   "execution_count": 2,
   "metadata": {},
   "outputs": [],
   "source": [
    "data = pd.read_csv('Pokemon.csv')"
   ]
  },
  {
   "cell_type": "code",
   "execution_count": 3,
   "metadata": {},
   "outputs": [
    {
     "name": "stdout",
     "output_type": "stream",
     "text": [
      "<class 'pandas.core.frame.DataFrame'>\n",
      "RangeIndex: 800 entries, 0 to 799\n",
      "Data columns (total 13 columns):\n",
      " #   Column      Non-Null Count  Dtype \n",
      "---  ------      --------------  ----- \n",
      " 0   #           800 non-null    int64 \n",
      " 1   Name        800 non-null    object\n",
      " 2   Type 1      800 non-null    object\n",
      " 3   Type 2      414 non-null    object\n",
      " 4   Total       800 non-null    int64 \n",
      " 5   HP          800 non-null    int64 \n",
      " 6   Attack      800 non-null    int64 \n",
      " 7   Defense     800 non-null    int64 \n",
      " 8   Sp. Atk     800 non-null    int64 \n",
      " 9   Sp. Def     800 non-null    int64 \n",
      " 10  Speed       800 non-null    int64 \n",
      " 11  Generation  800 non-null    int64 \n",
      " 12  Legendary   800 non-null    bool  \n",
      "dtypes: bool(1), int64(9), object(3)\n",
      "memory usage: 75.9+ KB\n"
     ]
    }
   ],
   "source": [
    "data.info()"
   ]
  },
  {
   "cell_type": "code",
   "execution_count": 4,
   "metadata": {},
   "outputs": [
    {
     "data": {
      "text/plain": [
       "0.08125"
      ]
     },
     "execution_count": 4,
     "metadata": {},
     "output_type": "execute_result"
    }
   ],
   "source": [
    "# lets standardize the column names\n",
    "data.columns = [col.lower()\n",
    "                   .replace(\".\",\"\") \n",
    "                   .replace(\" \", \"_\")\n",
    "                for col in data.columns]\n",
    "\n",
    "# how much of the data is legendaries?\n",
    "data['legendary'].sum() / data.shape[0]"
   ]
  },
  {
   "cell_type": "markdown",
   "metadata": {},
   "source": [
    "## <u>Preprocessing</u>\n",
    "### Stratified Sampling\n",
    "\n",
    "Since the positive class (being legendary) is rare, let's use a stratified sampling method"
   ]
  },
  {
   "cell_type": "code",
   "execution_count": 5,
   "metadata": {},
   "outputs": [],
   "source": [
    "from sklearn.model_selection import StratifiedShuffleSplit\n",
    "\n",
    "split = StratifiedShuffleSplit(n_splits=1, test_size=.2, random_state=23)\n",
    "for train_index, test_index in split.split(data, data['legendary']):\n",
    "    train = data.loc[train_index]\n",
    "    test = data.loc[test_index]"
   ]
  },
  {
   "cell_type": "markdown",
   "metadata": {},
   "source": [
    "### Data Cleaning"
   ]
  },
  {
   "cell_type": "code",
   "execution_count": 6,
   "metadata": {},
   "outputs": [],
   "source": [
    "# removing mega evolutions\n",
    "train = train[train['name'].apply(lambda col: True if not re.search('\\wMega',col) else False)] # \"Mega\" is typically after a word\n",
    "test = test[test['name'].apply(lambda col: True if not re.search('\\wMega',col) else False)] # \"Mega\" is typically after a word"
   ]
  },
  {
   "cell_type": "code",
   "execution_count": 7,
   "metadata": {},
   "outputs": [],
   "source": [
    "# remove useless columns\n",
    "train = train.drop(['#', 'name'], axis = 1)\n",
    "test = test.drop(['#', 'name'], axis = 1)"
   ]
  },
  {
   "cell_type": "code",
   "execution_count": 8,
   "metadata": {},
   "outputs": [],
   "source": [
    "# make the generation into an object type\n",
    "train['generation'] = train['generation'].astype(str)\n",
    "test['generation'] = test['generation'].astype(str)"
   ]
  },
  {
   "cell_type": "code",
   "execution_count": 9,
   "metadata": {},
   "outputs": [],
   "source": [
    "# total, by definition is colinear with other stats\n",
    "train = train.drop('total', axis = 1)\n",
    "test = test.drop('total', axis = 1)"
   ]
  },
  {
   "cell_type": "markdown",
   "metadata": {},
   "source": [
    "### Exploration\n",
    "\n",
    "Since mega-evolutions are gone, let's do some exploratory analysis."
   ]
  },
  {
   "cell_type": "code",
   "execution_count": 10,
   "metadata": {},
   "outputs": [
    {
     "data": {
      "text/plain": [
       "<matplotlib.axes._subplots.AxesSubplot at 0x1e1a41cfca0>"
      ]
     },
     "execution_count": 10,
     "metadata": {},
     "output_type": "execute_result"
    },
    {
     "data": {
      "image/png": "[encoded data removed]",
      "text/plain": [
       "<Figure size 432x288 with 1 Axes>"
      ]
     },
     "metadata": {
      "needs_background": "light"
     },
     "output_type": "display_data"
    }
   ],
   "source": [
    "train.pivot_table(index='legendary', values=['hp', 'attack', 'defense', 'sp_atk', 'sp_def', 'speed'], aggfunc=np.mean) \\\n",
    "     .apply(lambda row: row[True] - row[False], axis=0) \\\n",
    "     .sort_values() \\\n",
    "     .plot.barh()"
   ]
  },
  {
   "cell_type": "markdown",
   "metadata": {},
   "source": [
    "We see that on average, most legendary pokemon have much higher sp_atk that regular pokemon."
   ]
  },
  {
   "cell_type": "code",
   "execution_count": 11,
   "metadata": {},
   "outputs": [
    {
     "data": {
      "text/plain": [
       "<matplotlib.axes._subplots.AxesSubplot at 0x1e1a492bee0>"
      ]
     },
     "execution_count": 11,
     "metadata": {},
     "output_type": "execute_result"
    },
    {
     "data": {
      "image/png": "[encoded data removed]",
      "text/plain": [
       "<Figure size 432x288 with 1 Axes>"
      ]
     },
     "metadata": {
      "needs_background": "light"
     },
     "output_type": "display_data"
    }
   ],
   "source": [
    "train.pivot_table(index='generation', values=['legendary'], aggfunc=np.sum)\\\n",
    "     .sort_values(by='legendary')\\\n",
    "     .plot.barh(legend=False)"
   ]
  },
  {
   "cell_type": "markdown",
   "metadata": {},
   "source": [
    "A couple generations have more legendaries, but it's not that much."
   ]
  },
  {
   "cell_type": "markdown",
   "metadata": {},
   "source": [
    "### Column Transformation\n",
    "#### Type Indicator\n",
    "We want to make sure that the model doesn't care if a type is type1 or type2 if it's the same type. This will also reduce \n",
    "34 dummy columns for type to 17."
   ]
  },
  {
   "cell_type": "code",
   "execution_count": 12,
   "metadata": {},
   "outputs": [],
   "source": [
    "# get all the unique types\n",
    "types = set(np.concatenate((train['type_1'].unique(), \n",
    "                            train['type_2'].dropna().unique()))) # get all the types in the train and test\n",
    "types = list(types)\n",
    "\n",
    "# make a column for each type on the train and test set\n",
    "for type_ in types:\n",
    "    dummy_col = type_.lower() + \"_ind\"\n",
    "    train[dummy_col] = train.apply(lambda row: 1 if row['type_1'] == type_ or row['type_2'] == type_ else 0, axis = 1)\n",
    "\n",
    "for type_ in types:\n",
    "    dummy_col = type_.lower() + \"_ind\"\n",
    "    test[dummy_col] = test.apply(lambda row: 1 if row['type_1'] == type_ or row['type_2'] == type_ else 0, axis = 1)\n",
    "    \n",
    "# we can drop the type columns now\n",
    "train = train.drop(['type_1', 'type_2'], axis = 1)\n",
    "test = test.drop(['type_1', 'type_2'], axis = 1)    "
   ]
  },
  {
   "cell_type": "markdown",
   "metadata": {},
   "source": [
    "#### One-hot Encoding "
   ]
  },
  {
   "cell_type": "code",
   "execution_count": 13,
   "metadata": {},
   "outputs": [],
   "source": [
    "def create_dummies(df, column_name, drop = True):\n",
    "    \n",
    "    dummies = pd.get_dummies(df[column_name], prefix = column_name)\n",
    "    df = pd.concat([df, dummies], axis = 1)\n",
    "    if drop:\n",
    "        df = df.drop(column_name, axis = 1)\n",
    "    \n",
    "    return df"
   ]
  },
  {
   "cell_type": "code",
   "execution_count": 14,
   "metadata": {},
   "outputs": [],
   "source": [
    "train = create_dummies(train, \"generation\")\n",
    "test = create_dummies(test, \"generation\")"
   ]
  },
  {
   "cell_type": "markdown",
   "metadata": {},
   "source": [
    "Let's see which specific stats legendary pokemon are higher in than regular pokemon."
   ]
  },
  {
   "cell_type": "code",
   "execution_count": 15,
   "metadata": {},
   "outputs": [
    {
     "data": {
      "text/plain": [
       "<matplotlib.axes._subplots.AxesSubplot at 0x1e1a49b50a0>"
      ]
     },
     "execution_count": 15,
     "metadata": {},
     "output_type": "execute_result"
    },
    {
     "data": {
      "image/png": "[encoded data removed]",
      "text/plain": [
       "<Figure size 432x288 with 1 Axes>"
      ]
     },
     "metadata": {
      "needs_background": "light"
     },
     "output_type": "display_data"
    }
   ],
   "source": [
    "train.pivot_table(index='legendary', values=['hp', 'attack', 'defense', 'sp_atk', 'sp_def', 'speed'], aggfunc=np.mean) \\\n",
    "     .apply(lambda row: row[True] - row[False], axis=0) \\\n",
    "     .sort_values() \\\n",
    "     .plot.barh()"
   ]
  },
  {
   "cell_type": "markdown",
   "metadata": {},
   "source": [
    "Legendary typically have much stronger sp_atk than regular pokemon."
   ]
  },
  {
   "cell_type": "code",
   "execution_count": 16,
   "metadata": {},
   "outputs": [],
   "source": [
    "def plot_correlation_heatmap(df):\n",
    "    \n",
    "    corr = df.corr()\n",
    "    sns.set(style = 'white')\n",
    "    mask = np.zeros_like(corr, dtype = np.bool)\n",
    "    mask[np.triu_indices_from(mask)] = True\n",
    "    f, ax = plt.subplots(figsize = (11, 9))\n",
    "    cmap = sns.diverging_palette(10, 150, as_cmap = True)\n",
    "    sns.heatmap(corr, mask = mask, cmap = cmap, vmax = .3, center = 0,\n",
    "                square= True, linewidth = .5, cbar_kws = {'shrink':.5})\n",
    "    plt.show()"
   ]
  },
  {
   "cell_type": "code",
   "execution_count": 17,
   "metadata": {},
   "outputs": [
    {
     "data": {
      "image/png": "[encoded data removed]",
      "text/plain": [
       "<Figure size 792x648 with 2 Axes>"
      ]
     },
     "metadata": {},
     "output_type": "display_data"
    }
   ],
   "source": [
    "plot_correlation_heatmap(train)"
   ]
  },
  {
   "cell_type": "markdown",
   "metadata": {},
   "source": [
    "**Comments:**\n",
    "\n",
    "We see that typically as one type increases, so do the others. The only one that don't predict eachother that well is speed and defense.\n",
    "\n",
    "Being dragon or psychic is a strong indicator that pokemon might be legendary.\n",
    "\n",
    "The fighting feature could be deleted since it hardly predicts legendary status and is strongly correlated with the attack feature.\n",
    "\n",
    "The same could be said about fairy and the sp def stat and just being gen 6\n",
    "\n",
    "Normal and bug can be taken out too since it's typically not represent with any other type.\n",
    "\n",
    "We may be able to remove sp atk and defense since they're correlated with other types too"
   ]
  },
  {
   "cell_type": "code",
   "execution_count": 18,
   "metadata": {},
   "outputs": [],
   "source": [
    "# splitting the predictors and labels\n",
    "X_train = train.drop('legendary', axis = 1)\n",
    "X_test = test.drop('legendary', axis = 1)\n",
    "\n",
    "y_train = train['legendary'] \n",
    "y_test = test['legendary'] "
   ]
  },
  {
   "cell_type": "markdown",
   "metadata": {},
   "source": [
    "## <u>Modeling"
   ]
  },
  {
   "cell_type": "code",
   "execution_count": 19,
   "metadata": {},
   "outputs": [],
   "source": [
    "from sklearn.linear_model import LogisticRegression"
   ]
  },
  {
   "cell_type": "code",
   "execution_count": 20,
   "metadata": {},
   "outputs": [],
   "source": [
    "lr = LogisticRegression()"
   ]
  },
  {
   "cell_type": "code",
   "execution_count": 21,
   "metadata": {
    "scrolled": true
   },
   "outputs": [
    {
     "name": "stderr",
     "output_type": "stream",
     "text": [
      "C:\\Users\\noble\\anaconda3\\lib\\site-packages\\sklearn\\linear_model\\_logistic.py:762: ConvergenceWarning: lbfgs failed to converge (status=1):\n",
      "STOP: TOTAL NO. of ITERATIONS REACHED LIMIT.\n",
      "\n",
      "Increase the number of iterations (max_iter) or scale the data as shown in:\n",
      "    https://scikit-learn.org/stable/modules/preprocessing.html\n",
      "Please also refer to the documentation for alternative solver options:\n",
      "    https://scikit-learn.org/stable/modules/linear_model.html#logistic-regression\n",
      "  n_iter_i = _check_optimize_result(\n"
     ]
    },
    {
     "data": {
      "text/plain": [
       "LogisticRegression()"
      ]
     },
     "execution_count": 21,
     "metadata": {},
     "output_type": "execute_result"
    }
   ],
   "source": [
    "lr.fit(X_train, y_train)"
   ]
  },
  {
   "cell_type": "code",
   "execution_count": 22,
   "metadata": {},
   "outputs": [],
   "source": [
    "preds = lr.predict(X_test)"
   ]
  },
  {
   "cell_type": "code",
   "execution_count": 23,
   "metadata": {},
   "outputs": [
    {
     "data": {
      "text/plain": [
       "0.9722222222222222"
      ]
     },
     "execution_count": 23,
     "metadata": {},
     "output_type": "execute_result"
    }
   ],
   "source": [
    "# Let's take a quick look at the accuracy score, even though it's misleading\n",
    "from sklearn.metrics import accuracy_score\n",
    "\n",
    "accuracy_score(y_test, preds)"
   ]
  },
  {
   "cell_type": "code",
   "execution_count": 24,
   "metadata": {},
   "outputs": [
    {
     "data": {
      "text/plain": [
       "0.9722222222222222"
      ]
     },
     "execution_count": 24,
     "metadata": {},
     "output_type": "execute_result"
    }
   ],
   "source": [
    "# we can use this too\n",
    "lr.score(X_test, y_test) "
   ]
  },
  {
   "cell_type": "markdown",
   "metadata": {},
   "source": [
    "### Decision Scores\n",
    "\n",
    "Since we'll like to maximize the recall and precision of the our model, let's find the decision scores of our model."
   ]
  },
  {
   "cell_type": "code",
   "execution_count": 25,
   "metadata": {},
   "outputs": [
    {
     "name": "stderr",
     "output_type": "stream",
     "text": [
      "C:\\Users\\noble\\anaconda3\\lib\\site-packages\\sklearn\\linear_model\\_logistic.py:762: ConvergenceWarning: lbfgs failed to converge (status=1):\n",
      "STOP: TOTAL NO. of ITERATIONS REACHED LIMIT.\n",
      "\n",
      "Increase the number of iterations (max_iter) or scale the data as shown in:\n",
      "    https://scikit-learn.org/stable/modules/preprocessing.html\n",
      "Please also refer to the documentation for alternative solver options:\n",
      "    https://scikit-learn.org/stable/modules/linear_model.html#logistic-regression\n",
      "  n_iter_i = _check_optimize_result(\n",
      "C:\\Users\\noble\\anaconda3\\lib\\site-packages\\sklearn\\linear_model\\_logistic.py:762: ConvergenceWarning: lbfgs failed to converge (status=1):\n",
      "STOP: TOTAL NO. of ITERATIONS REACHED LIMIT.\n",
      "\n",
      "Increase the number of iterations (max_iter) or scale the data as shown in:\n",
      "    https://scikit-learn.org/stable/modules/preprocessing.html\n",
      "Please also refer to the documentation for alternative solver options:\n",
      "    https://scikit-learn.org/stable/modules/linear_model.html#logistic-regression\n",
      "  n_iter_i = _check_optimize_result(\n",
      "C:\\Users\\noble\\anaconda3\\lib\\site-packages\\sklearn\\linear_model\\_logistic.py:762: ConvergenceWarning: lbfgs failed to converge (status=1):\n",
      "STOP: TOTAL NO. of ITERATIONS REACHED LIMIT.\n",
      "\n",
      "Increase the number of iterations (max_iter) or scale the data as shown in:\n",
      "    https://scikit-learn.org/stable/modules/preprocessing.html\n",
      "Please also refer to the documentation for alternative solver options:\n",
      "    https://scikit-learn.org/stable/modules/linear_model.html#logistic-regression\n",
      "  n_iter_i = _check_optimize_result(\n"
     ]
    }
   ],
   "source": [
    "from sklearn.model_selection import cross_val_predict\n",
    "\n",
    "y_scores = cross_val_predict(lr, X_train, y_train, cv = 3,\n",
    "                             method = 'decision_function')"
   ]
  },
  {
   "cell_type": "markdown",
   "metadata": {},
   "source": [
    "### Precision-Recall Curve\n",
    "\n",
    "We decide to use this curve since the positive class (i.e. legendary pokemon) are rare."
   ]
  },
  {
   "cell_type": "code",
   "execution_count": 26,
   "metadata": {
    "scrolled": true
   },
   "outputs": [
    {
     "data": {
      "image/png": "[encoded data removed]",
      "text/plain": [
       "<Figure size 432x288 with 1 Axes>"
      ]
     },
     "metadata": {},
     "output_type": "display_data"
    }
   ],
   "source": [
    "from sklearn.metrics import precision_recall_curve\n",
    "\n",
    "precisions, recalls, thresholds = precision_recall_curve(y_train, y_scores)\n",
    "\n",
    "def plot_precision_recall_vs_threshold(precisions, recalls, thresholds):\n",
    "    plt.plot(thresholds, precisions[:-1], \"b--\", label = \"Precision\")\n",
    "    plt.plot(thresholds, recalls[:-1], \"g-\", label=\"Recall\")\n",
    "    plt.legend(loc=\"lower right\", fontsize=12)\n",
    "    plt.xlabel(\"Threshold\", fontsize=11)        \n",
    "    plt.grid(True, linewidth=.1)                             \n",
    "    plt.axis([-5, 6, -.5, 1.3])\n",
    "    plt.title(\"Precision-Recall Curve\", loc=\"center\")\n",
    "    \n",
    "\n",
    "plot_precision_recall_vs_threshold(precisions, recalls, thresholds)"
   ]
  },
  {
   "cell_type": "code",
   "execution_count": 27,
   "metadata": {},
   "outputs": [
    {
     "data": {
      "text/html": [
       "<div>\n",
       "<style scoped>\n",
       "    .dataframe tbody tr th:only-of-type {\n",
       "        vertical-align: middle;\n",
       "    }\n",
       "\n",
       "    .dataframe tbody tr th {\n",
       "        vertical-align: top;\n",
       "    }\n",
       "\n",
       "    .dataframe thead th {\n",
       "        text-align: right;\n",
       "    }\n",
       "</style>\n",
       "<table border=\"1\" class=\"dataframe\">\n",
       "  <thead>\n",
       "    <tr style=\"text-align: right;\">\n",
       "      <th></th>\n",
       "      <th>precision</th>\n",
       "      <th>recall</th>\n",
       "      <th>thresholds</th>\n",
       "    </tr>\n",
       "  </thead>\n",
       "  <tbody>\n",
       "    <tr>\n",
       "      <th>99</th>\n",
       "      <td>0.557143</td>\n",
       "      <td>0.795918</td>\n",
       "      <td>-1.219226</td>\n",
       "    </tr>\n",
       "    <tr>\n",
       "      <th>100</th>\n",
       "      <td>0.565217</td>\n",
       "      <td>0.795918</td>\n",
       "      <td>-1.219070</td>\n",
       "    </tr>\n",
       "    <tr>\n",
       "      <th>101</th>\n",
       "      <td>0.573529</td>\n",
       "      <td>0.795918</td>\n",
       "      <td>-0.970768</td>\n",
       "    </tr>\n",
       "    <tr>\n",
       "      <th>102</th>\n",
       "      <td>0.582090</td>\n",
       "      <td>0.795918</td>\n",
       "      <td>-0.877433</td>\n",
       "    </tr>\n",
       "    <tr>\n",
       "      <th>103</th>\n",
       "      <td>0.590909</td>\n",
       "      <td>0.795918</td>\n",
       "      <td>-0.851468</td>\n",
       "    </tr>\n",
       "    <tr>\n",
       "      <th>104</th>\n",
       "      <td>0.600000</td>\n",
       "      <td>0.795918</td>\n",
       "      <td>-0.849684</td>\n",
       "    </tr>\n",
       "    <tr>\n",
       "      <th>105</th>\n",
       "      <td>0.609375</td>\n",
       "      <td>0.795918</td>\n",
       "      <td>-0.842688</td>\n",
       "    </tr>\n",
       "    <tr>\n",
       "      <th>106</th>\n",
       "      <td>0.619048</td>\n",
       "      <td>0.795918</td>\n",
       "      <td>-0.818385</td>\n",
       "    </tr>\n",
       "    <tr>\n",
       "      <th>107</th>\n",
       "      <td>0.629032</td>\n",
       "      <td>0.795918</td>\n",
       "      <td>-0.812587</td>\n",
       "    </tr>\n",
       "    <tr>\n",
       "      <th>108</th>\n",
       "      <td>0.639344</td>\n",
       "      <td>0.795918</td>\n",
       "      <td>-0.809452</td>\n",
       "    </tr>\n",
       "    <tr>\n",
       "      <th>109</th>\n",
       "      <td>0.633333</td>\n",
       "      <td>0.775510</td>\n",
       "      <td>-0.786379</td>\n",
       "    </tr>\n",
       "    <tr>\n",
       "      <th>110</th>\n",
       "      <td>0.644068</td>\n",
       "      <td>0.775510</td>\n",
       "      <td>-0.776103</td>\n",
       "    </tr>\n",
       "    <tr>\n",
       "      <th>111</th>\n",
       "      <td>0.655172</td>\n",
       "      <td>0.775510</td>\n",
       "      <td>-0.759142</td>\n",
       "    </tr>\n",
       "    <tr>\n",
       "      <th>112</th>\n",
       "      <td>0.666667</td>\n",
       "      <td>0.775510</td>\n",
       "      <td>-0.703157</td>\n",
       "    </tr>\n",
       "    <tr>\n",
       "      <th>113</th>\n",
       "      <td>0.678571</td>\n",
       "      <td>0.775510</td>\n",
       "      <td>-0.676504</td>\n",
       "    </tr>\n",
       "    <tr>\n",
       "      <th>114</th>\n",
       "      <td>0.690909</td>\n",
       "      <td>0.775510</td>\n",
       "      <td>-0.658453</td>\n",
       "    </tr>\n",
       "    <tr>\n",
       "      <th>115</th>\n",
       "      <td>0.703704</td>\n",
       "      <td>0.775510</td>\n",
       "      <td>-0.646024</td>\n",
       "    </tr>\n",
       "    <tr>\n",
       "      <th>116</th>\n",
       "      <td>0.698113</td>\n",
       "      <td>0.755102</td>\n",
       "      <td>-0.564111</td>\n",
       "    </tr>\n",
       "    <tr>\n",
       "      <th>117</th>\n",
       "      <td>0.711538</td>\n",
       "      <td>0.755102</td>\n",
       "      <td>-0.559946</td>\n",
       "    </tr>\n",
       "    <tr>\n",
       "      <th>118</th>\n",
       "      <td>0.725490</td>\n",
       "      <td>0.755102</td>\n",
       "      <td>-0.536123</td>\n",
       "    </tr>\n",
       "    <tr>\n",
       "      <th>119</th>\n",
       "      <td>0.740000</td>\n",
       "      <td>0.755102</td>\n",
       "      <td>-0.528693</td>\n",
       "    </tr>\n",
       "    <tr>\n",
       "      <th>120</th>\n",
       "      <td>0.755102</td>\n",
       "      <td>0.755102</td>\n",
       "      <td>-0.519686</td>\n",
       "    </tr>\n",
       "    <tr>\n",
       "      <th>121</th>\n",
       "      <td>0.750000</td>\n",
       "      <td>0.734694</td>\n",
       "      <td>-0.471714</td>\n",
       "    </tr>\n",
       "    <tr>\n",
       "      <th>122</th>\n",
       "      <td>0.744681</td>\n",
       "      <td>0.714286</td>\n",
       "      <td>-0.471333</td>\n",
       "    </tr>\n",
       "  </tbody>\n",
       "</table>\n",
       "</div>"
      ],
      "text/plain": [
       "     precision    recall  thresholds\n",
       "99    0.557143  0.795918   -1.219226\n",
       "100   0.565217  0.795918   -1.219070\n",
       "101   0.573529  0.795918   -0.970768\n",
       "102   0.582090  0.795918   -0.877433\n",
       "103   0.590909  0.795918   -0.851468\n",
       "104   0.600000  0.795918   -0.849684\n",
       "105   0.609375  0.795918   -0.842688\n",
       "106   0.619048  0.795918   -0.818385\n",
       "107   0.629032  0.795918   -0.812587\n",
       "108   0.639344  0.795918   -0.809452\n",
       "109   0.633333  0.775510   -0.786379\n",
       "110   0.644068  0.775510   -0.776103\n",
       "111   0.655172  0.775510   -0.759142\n",
       "112   0.666667  0.775510   -0.703157\n",
       "113   0.678571  0.775510   -0.676504\n",
       "114   0.690909  0.775510   -0.658453\n",
       "115   0.703704  0.775510   -0.646024\n",
       "116   0.698113  0.755102   -0.564111\n",
       "117   0.711538  0.755102   -0.559946\n",
       "118   0.725490  0.755102   -0.536123\n",
       "119   0.740000  0.755102   -0.528693\n",
       "120   0.755102  0.755102   -0.519686\n",
       "121   0.750000  0.734694   -0.471714\n",
       "122   0.744681  0.714286   -0.471333"
      ]
     },
     "execution_count": 27,
     "metadata": {},
     "output_type": "execute_result"
    }
   ],
   "source": [
    "# let's see this in a tabular format\n",
    "names = [\"precision\", \"recall\", \"thresholds\"]\n",
    "prt_dict = {name:nums for name, nums in zip(names, [precisions[:-1], recalls[:-1], thresholds])}\n",
    "prt_df = pd.DataFrame(prt_dict)\n",
    "prt_df[prt_df[\"recall\"].between(.7,.8)]  # this is the recall range we're interested in, based on the curve above."
   ]
  },
  {
   "cell_type": "markdown",
   "metadata": {},
   "source": [
    "We decide that the threshold of -0.648266 is best since it'll keep the recall around around 80%, while keeping the precision relatively high. "
   ]
  },
  {
   "cell_type": "markdown",
   "metadata": {},
   "source": [
    "#### Testing and Setting the new Threshold"
   ]
  },
  {
   "cell_type": "code",
   "execution_count": 28,
   "metadata": {},
   "outputs": [
    {
     "name": "stdout",
     "output_type": "stream",
     "text": [
      "precision score: 0.7037037037037037\n",
      "   recall score: 0.7755102040816326\n"
     ]
    }
   ],
   "source": [
    "from sklearn.metrics import precision_score, recall_score\n",
    "\n",
    "new_pred = y_scores >= -0.648266\n",
    "\n",
    "print(f'precision score: {precision_score(y_train, new_pred)}\\n\\\n",
    "   recall score: {recall_score(y_train, new_pred)}')"
   ]
  },
  {
   "cell_type": "markdown",
   "metadata": {},
   "source": [
    "### Test Set"
   ]
  },
  {
   "cell_type": "code",
   "execution_count": 29,
   "metadata": {},
   "outputs": [
    {
     "name": "stdout",
     "output_type": "stream",
     "text": [
      "precision score: 1.0\n",
      "   recall score: 0.9\n"
     ]
    }
   ],
   "source": [
    "test_preds = lr.decision_function(X_test) >= -0.648266\n",
    "\n",
    "print(f'precision score: {precision_score(y_test, test_preds)}\\n\\\n",
    "   recall score: {recall_score(y_test, test_preds)}')"
   ]
  },
  {
   "cell_type": "markdown",
   "metadata": {},
   "source": [
    "### Conclusion\n",
    "\n",
    "We see that our performed better on the test set than on the training set. However, there's still a lot of volatility. On another run, there's a good chance that our precision/recall on the test would be worse.  Since only about 8% of pokemon are legendary, there's a good chance that many of the legendary pokemon that are outliers will (e.g. have lower stats) fall into one of the sets and not the other.\n",
    "\n",
    "## Next Time:\n",
    "\n",
    "see if you can make any actions from the exploration phase especially the correlation map.\n",
    "\n",
    "see if you can make so that we can see which features predict being legendary the best."
   ]
  },
  {
   "cell_type": "code",
   "execution_count": null,
   "metadata": {},
   "outputs": [],
   "source": []
  }
 ],
 "metadata": {
  "kernelspec": {
   "display_name": "Python 3",
   "language": "python",
   "name": "python3"
  },
  "language_info": {
   "codemirror_mode": {
    "name": "ipython",
    "version": 3
   },
   "file_extension": ".py",
   "mimetype": "text/x-python",
   "name": "python",
   "nbconvert_exporter": "python",
   "pygments_lexer": "ipython3",
   "version": "3.8.3"
  }
 },
 "nbformat": 4,
 "nbformat_minor": 4
}
