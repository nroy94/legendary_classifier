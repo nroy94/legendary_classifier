{
 "cells": [
  {
   "cell_type": "markdown",
   "metadata": {},
   "source": [
    "## Introduction\n",
    "\n",
    "We want to be able to indentify legendary pokemon based on type, stats, and generation. This will be a binary classification problem."
   ]
  },
  {
   "cell_type": "code",
   "execution_count": 465,
   "metadata": {},
   "outputs": [],
   "source": [
    "import pandas as pd\n",
    "import numpy as np\n",
    "import re\n",
    "import seaborn as sns\n",
    "import matplotlib.pyplot as plt\n",
    "%matplotlib inline\n",
    "\n",
    "import warnings\n",
    "from sklearn.exceptions import ConvergenceWarning\n",
    "warnings.filterwarnings(\"ignore\", category=ConvergenceWarning)"
   ]
  },
  {
   "cell_type": "code",
   "execution_count": 466,
   "metadata": {},
   "outputs": [],
   "source": [
    "data = pd.read_csv('Pokemon.csv')"
   ]
  },
  {
   "cell_type": "code",
   "execution_count": 467,
   "metadata": {},
   "outputs": [
    {
     "name": "stdout",
     "output_type": "stream",
     "text": [
      "<class 'pandas.core.frame.DataFrame'>\n",
      "RangeIndex: 800 entries, 0 to 799\n",
      "Data columns (total 13 columns):\n",
      " #   Column      Non-Null Count  Dtype \n",
      "---  ------      --------------  ----- \n",
      " 0   #           800 non-null    int64 \n",
      " 1   Name        800 non-null    object\n",
      " 2   Type 1      800 non-null    object\n",
      " 3   Type 2      414 non-null    object\n",
      " 4   Total       800 non-null    int64 \n",
      " 5   HP          800 non-null    int64 \n",
      " 6   Attack      800 non-null    int64 \n",
      " 7   Defense     800 non-null    int64 \n",
      " 8   Sp. Atk     800 non-null    int64 \n",
      " 9   Sp. Def     800 non-null    int64 \n",
      " 10  Speed       800 non-null    int64 \n",
      " 11  Generation  800 non-null    int64 \n",
      " 12  Legendary   800 non-null    bool  \n",
      "dtypes: bool(1), int64(9), object(3)\n",
      "memory usage: 75.9+ KB\n"
     ]
    }
   ],
   "source": [
    "data.info()"
   ]
  },
  {
   "cell_type": "code",
   "execution_count": 468,
   "metadata": {},
   "outputs": [
    {
     "data": {
      "text/plain": [
       "0.08125"
      ]
     },
     "execution_count": 468,
     "metadata": {},
     "output_type": "execute_result"
    }
   ],
   "source": [
    "# lets standardize the column names\n",
    "data.columns = [col.lower()\n",
    "                   .replace(\".\",\"\") \n",
    "                   .replace(\" \", \"_\")\n",
    "                for col in data.columns]\n",
    "\n",
    "# how much of the data is legendaries?\n",
    "data['legendary'].sum() / data.shape[0]"
   ]
  },
  {
   "cell_type": "markdown",
   "metadata": {},
   "source": [
    "## <u>Preprocessing</u>\n",
    "### Stratified Sampling\n",
    "\n",
    "Since the positive class (being legendary) is rare, let's use a stratified sampling method"
   ]
  },
  {
   "cell_type": "code",
   "execution_count": 469,
   "metadata": {},
   "outputs": [],
   "source": [
    "from sklearn.model_selection import StratifiedShuffleSplit\n",
    "\n",
    "split = StratifiedShuffleSplit(n_splits=1, test_size=.2, random_state=23)\n",
    "for train_index, test_index in split.split(data, data['legendary']):\n",
    "    train = data.loc[train_index]\n",
    "    test = data.loc[test_index]"
   ]
  },
  {
   "cell_type": "markdown",
   "metadata": {},
   "source": [
    "### Data Cleaning"
   ]
  },
  {
   "cell_type": "code",
   "execution_count": 470,
   "metadata": {},
   "outputs": [],
   "source": [
    "# removing mega evolutions\n",
    "train = train[train['name'].apply(lambda col: True if not re.search('\\wMega',col) else False)] # \"Mega\" is typically after a word\n",
    "test = test[test['name'].apply(lambda col: True if not re.search('\\wMega',col) else False)] # \"Mega\" is typically after a word"
   ]
  },
  {
   "cell_type": "code",
   "execution_count": 471,
   "metadata": {},
   "outputs": [],
   "source": [
    "# remove useless columns\n",
    "train = train.drop(['#', 'name'], axis = 1)\n",
    "test = test.drop(['#', 'name'], axis = 1)"
   ]
  },
  {
   "cell_type": "code",
   "execution_count": 472,
   "metadata": {},
   "outputs": [],
   "source": [
    "# make the generation into an object type\n",
    "train['generation'] = train['generation'].astype(str)\n",
    "test['generation'] = test['generation'].astype(str)"
   ]
  },
  {
   "cell_type": "code",
   "execution_count": 473,
   "metadata": {},
   "outputs": [],
   "source": [
    "# total, by definition is colinear with other stats\n",
    "train = train.drop('total', axis = 1)\n",
    "test = test.drop('total', axis = 1)"
   ]
  },
  {
   "cell_type": "markdown",
   "metadata": {},
   "source": [
    "### Exploration\n",
    "\n",
    "Since mega-evolutions are gone, let's do some exploratory analysis."
   ]
  },
  {
   "cell_type": "code",
   "execution_count": 474,
   "metadata": {},
   "outputs": [
    {
     "data": {
      "text/plain": [
       "<matplotlib.axes._subplots.AxesSubplot at 0x2432e33c190>"
      ]
     },
     "execution_count": 474,
     "metadata": {},
     "output_type": "execute_result"
    },
    {
     "data": {
      "image/png": "[encoded data removed]",
      "text/plain": [
       "<Figure size 432x288 with 1 Axes>"
      ]
     },
     "metadata": {
      "needs_background": "light"
     },
     "output_type": "display_data"
    }
   ],
   "source": [
    "train.pivot_table(index='legendary', values=['hp', 'attack', 'defense', 'sp_atk', 'sp_def', 'speed'], aggfunc=np.mean) \\\n",
    "     .apply(lambda row: row[True] - row[False], axis=0) \\\n",
    "     .sort_values() \\\n",
    "     .plot.barh()"
   ]
  },
  {
   "cell_type": "markdown",
   "metadata": {},
   "source": [
    "We see that on average, most legendary pokemon have much higher sp_atk that regular pokemon."
   ]
  },
  {
   "cell_type": "code",
   "execution_count": 475,
   "metadata": {},
   "outputs": [
    {
     "data": {
      "text/plain": [
       "<matplotlib.axes._subplots.AxesSubplot at 0x2432ca01130>"
      ]
     },
     "execution_count": 475,
     "metadata": {},
     "output_type": "execute_result"
    },
    {
     "data": {
      "image/png": "[encoded data removed]",
      "text/plain": [
       "<Figure size 432x288 with 1 Axes>"
      ]
     },
     "metadata": {
      "needs_background": "light"
     },
     "output_type": "display_data"
    }
   ],
   "source": [
    "train.pivot_table(index='generation', values=['legendary'], aggfunc=np.sum)\\\n",
    "     .sort_values(by='legendary')\\\n",
    "     .plot.barh(legend=False)"
   ]
  },
  {
   "cell_type": "markdown",
   "metadata": {},
   "source": [
    "A couple generations have more legendaries, but it's not that much."
   ]
  },
  {
   "cell_type": "markdown",
   "metadata": {},
   "source": [
    "### Column Transformation\n",
    "#### Type Indicator\n",
    "We want to make sure that the model doesn't care if a type is type1 or type2 if it's the same type. This will also reduce \n",
    "34 dummy columns for type to 17."
   ]
  },
  {
   "cell_type": "code",
   "execution_count": 476,
   "metadata": {},
   "outputs": [],
   "source": [
    "# get all the unique types\n",
    "types = set(np.concatenate((train['type_1'].unique(), \n",
    "                            train['type_2'].dropna().unique()))) # get all the types in the train and test\n",
    "types = list(types)\n",
    "\n",
    "# make a column for each type on the train and test set\n",
    "for type_ in types:\n",
    "    dummy_col = type_.lower() + \"_ind\"\n",
    "    train[dummy_col] = train.apply(lambda row: 1 if row['type_1'] == type_ or row['type_2'] == type_ else 0, axis = 1)\n",
    "\n",
    "for type_ in types:\n",
    "    dummy_col = type_.lower() + \"_ind\"\n",
    "    test[dummy_col] = test.apply(lambda row: 1 if row['type_1'] == type_ or row['type_2'] == type_ else 0, axis = 1)\n",
    "    \n",
    "# we can drop the type columns now\n",
    "train = train.drop(['type_1', 'type_2'], axis = 1)\n",
    "test = test.drop(['type_1', 'type_2'], axis = 1)    "
   ]
  },
  {
   "cell_type": "markdown",
   "metadata": {},
   "source": [
    "#### One-hot Encoding "
   ]
  },
  {
   "cell_type": "code",
   "execution_count": 477,
   "metadata": {},
   "outputs": [],
   "source": [
    "def create_dummies(df, column_name, drop = True):\n",
    "    \n",
    "    dummies = pd.get_dummies(df[column_name], prefix = column_name)\n",
    "    df = pd.concat([df, dummies], axis = 1)\n",
    "    if drop:\n",
    "        df = df.drop(column_name, axis = 1)\n",
    "    \n",
    "    return df"
   ]
  },
  {
   "cell_type": "code",
   "execution_count": 478,
   "metadata": {},
   "outputs": [],
   "source": [
    "train = create_dummies(train, \"generation\")\n",
    "test = create_dummies(test, \"generation\")"
   ]
  },
  {
   "cell_type": "markdown",
   "metadata": {},
   "source": [
    "Let's see which specific stats legendary pokemon are higher in than regular pokemon."
   ]
  },
  {
   "cell_type": "code",
   "execution_count": 479,
   "metadata": {},
   "outputs": [
    {
     "data": {
      "text/plain": [
       "<matplotlib.axes._subplots.AxesSubplot at 0x2432ca58df0>"
      ]
     },
     "execution_count": 479,
     "metadata": {},
     "output_type": "execute_result"
    },
    {
     "data": {
      "image/png": "[encoded data removed]",
      "text/plain": [
       "<Figure size 432x288 with 1 Axes>"
      ]
     },
     "metadata": {
      "needs_background": "light"
     },
     "output_type": "display_data"
    }
   ],
   "source": [
    "train.pivot_table(index='legendary', values=['hp', 'attack', 'defense', 'sp_atk', 'sp_def', 'speed'], aggfunc=np.mean) \\\n",
    "     .apply(lambda row: row[True] - row[False], axis=0) \\\n",
    "     .sort_values() \\\n",
    "     .plot.barh()"
   ]
  },
  {
   "cell_type": "markdown",
   "metadata": {},
   "source": [
    "Legendary typically have much stronger sp_atk than regular pokemon."
   ]
  },
  {
   "cell_type": "code",
   "execution_count": 480,
   "metadata": {},
   "outputs": [],
   "source": [
    "def plot_correlation_heatmap(df):\n",
    "    \n",
    "    corr = df.corr()\n",
    "    sns.set(style = 'white')\n",
    "    mask = np.zeros_like(corr, dtype = np.bool)\n",
    "    mask[np.triu_indices_from(mask)] = True\n",
    "    f, ax = plt.subplots(figsize = (11, 9))\n",
    "    cmap = sns.diverging_palette(10, 150, as_cmap = True)\n",
    "    sns.heatmap(corr, mask = mask, cmap = cmap, vmax = .3, center = 0,\n",
    "                square= True, linewidth = .5, cbar_kws = {'shrink':.5})\n",
    "    plt.show()"
   ]
  },
  {
   "cell_type": "code",
   "execution_count": 481,
   "metadata": {},
   "outputs": [
    {
     "data": {
      "image/png": "[encoded data removed]",
      "text/plain": [
       "<Figure size 792x648 with 2 Axes>"
      ]
     },
     "metadata": {},
     "output_type": "display_data"
    }
   ],
   "source": [
    "plot_correlation_heatmap(train)"
   ]
  },
  {
   "cell_type": "markdown",
   "metadata": {},
   "source": [
    "**Insights:**\n",
    "\n",
    "We see that typically as one type increases, so do the others. The only one that don't predict eachother that well is speed and defense.\n",
    "\n",
    "Being dragon or psychic is a strong indicator that pokemon might be legendary.\n",
    "\n",
    "The fighting feature could be deleted since it hardly predicts legendary status and is strongly correlated with the attack feature.\n",
    "\n",
    "The same could be said about fairy and the sp def stat and just being gen 6\n",
    "\n",
    "Normal and bug can be taken out too since it's typically not represent with any other type.\n",
    "\n",
    "We may be able to remove sp atk and defense since they're correlated with other types too.\n",
    "\n",
    "generations are weak indicators of legendaries, and we saw that they're isn't many legendaries per generation to begin with."
   ]
  },
  {
   "cell_type": "code",
   "execution_count": 482,
   "metadata": {},
   "outputs": [],
   "source": [
    "# based on our insights, let's drop the generation features\n",
    "train = train.drop(['generation_1', 'generation_2', 'generation_3', 'generation_4', 'generation_5', 'generation_6'], axis=1)\n",
    "test = test.drop(['generation_1', 'generation_2', 'generation_3', 'generation_4', 'generation_5', 'generation_6'], axis=1)\n",
    "\n",
    "# getting rid of the generations helped alot\n",
    "\n",
    "train = train.drop(['fairy_ind', 'rock_ind', 'fighting_ind', \n",
    "                    'electric_ind', 'bug_ind', 'normal_ind', 'grass_ind', 'ghost_ind', 'water_ind', 'steel_ind'], axis=1)\n",
    "\n",
    "test = test.drop(['fairy_ind', 'rock_ind', 'fighting_ind', \n",
    "                  'electric_ind', 'bug_ind', 'normal_ind', 'grass_ind', 'ghost_ind', 'water_ind', 'steel_ind'], axis=1)\n",
    "\n",
    "# getting rid of the types didn't help much from the generations removal\n",
    "\n",
    "\n",
    "train = train.drop(['dark_ind', 'ice_ind', 'poison_ind', 'flying_ind', 'ground_ind', 'fire_ind'], axis=1)\n",
    "\n",
    "test = test.drop(['dark_ind', 'ice_ind', 'poison_ind', 'flying_ind', 'ground_ind', 'fire_ind'], axis=1)\n",
    "# with getting rid of most of the types above, we achieve a R/C curve of 95/78\n",
    "\n",
    "# turn the above into one drop statement"
   ]
  },
  {
   "cell_type": "code",
   "execution_count": 483,
   "metadata": {},
   "outputs": [],
   "source": [
    "# splitting the features and labels\n",
    "X_train = train.drop('legendary', axis = 1)\n",
    "X_test = test.drop('legendary', axis = 1)\n",
    "\n",
    "y_train = train['legendary'] \n",
    "y_test = test['legendary'] "
   ]
  },
  {
   "cell_type": "markdown",
   "metadata": {},
   "source": [
    "## <u>Modeling"
   ]
  },
  {
   "cell_type": "code",
   "execution_count": 493,
   "metadata": {},
   "outputs": [],
   "source": [
    "from sklearn.linear_model import LogisticRegression"
   ]
  },
  {
   "cell_type": "code",
   "execution_count": 494,
   "metadata": {},
   "outputs": [],
   "source": [
    "lr = LogisticRegression()"
   ]
  },
  {
   "cell_type": "code",
   "execution_count": 495,
   "metadata": {
    "scrolled": true
   },
   "outputs": [
    {
     "data": {
      "text/plain": [
       "LogisticRegression()"
      ]
     },
     "execution_count": 495,
     "metadata": {},
     "output_type": "execute_result"
    }
   ],
   "source": [
    "lr.fit(X_train, y_train)"
   ]
  },
  {
   "cell_type": "code",
   "execution_count": 496,
   "metadata": {},
   "outputs": [],
   "source": [
    "preds = lr.predict(X_test)"
   ]
  },
  {
   "cell_type": "code",
   "execution_count": 497,
   "metadata": {},
   "outputs": [
    {
     "data": {
      "text/plain": [
       "0.9722222222222222"
      ]
     },
     "execution_count": 497,
     "metadata": {},
     "output_type": "execute_result"
    }
   ],
   "source": [
    "# Let's take a quick look at the accuracy score, even though it's misleading\n",
    "from sklearn.metrics import accuracy_score\n",
    "\n",
    "accuracy_score(y_test, preds)"
   ]
  },
  {
   "cell_type": "code",
   "execution_count": 498,
   "metadata": {},
   "outputs": [
    {
     "data": {
      "text/plain": [
       "0.9722222222222222"
      ]
     },
     "execution_count": 498,
     "metadata": {},
     "output_type": "execute_result"
    }
   ],
   "source": [
    "# we can use this too\n",
    "lr.score(X_test, y_test) "
   ]
  },
  {
   "cell_type": "markdown",
   "metadata": {},
   "source": [
    "### Decision Scores\n",
    "\n",
    "Since we'll like to maximize the recall and precision of the our model, let's find the decision scores of our model."
   ]
  },
  {
   "cell_type": "code",
   "execution_count": 499,
   "metadata": {},
   "outputs": [],
   "source": [
    "\n",
    "from sklearn.model_selection import cross_val_predict\n",
    "\n",
    "y_scores = cross_val_predict(lr, X_train, y_train, cv = 3,\n",
    "                             method = 'decision_function')"
   ]
  },
  {
   "cell_type": "markdown",
   "metadata": {},
   "source": [
    "### Precision-Recall Curve\n",
    "\n",
    "We decide to use this curve since the positive class (i.e. legendary pokemon) are rare."
   ]
  },
  {
   "cell_type": "code",
   "execution_count": 500,
   "metadata": {
    "scrolled": true
   },
   "outputs": [
    {
     "data": {
      "image/png": "[encoded data removed]",
      "text/plain": [
       "<Figure size 432x288 with 1 Axes>"
      ]
     },
     "metadata": {},
     "output_type": "display_data"
    }
   ],
   "source": [
    "from sklearn.metrics import precision_recall_curve\n",
    "\n",
    "precisions, recalls, thresholds = precision_recall_curve(y_train, y_scores)\n",
    "\n",
    "def plot_precision_recall_vs_threshold(precisions, recalls, thresholds):\n",
    "    plt.plot(thresholds, precisions[:-1], \"b--\", label = \"Precision\")\n",
    "    plt.plot(thresholds, recalls[:-1], \"g-\", label=\"Recall\")\n",
    "    plt.legend(loc=\"lower right\", fontsize=12)\n",
    "    plt.xlabel(\"Threshold\", fontsize=11)        \n",
    "    plt.grid(True, linewidth=.1)                             \n",
    "    plt.axis([-5, 6, -.5, 1.3])\n",
    "    plt.title(\"Precision-Recall Curve\", loc=\"center\")\n",
    "    \n",
    "\n",
    "plot_precision_recall_vs_threshold(precisions, recalls, thresholds)"
   ]
  },
  {
   "cell_type": "code",
   "execution_count": 492,
   "metadata": {},
   "outputs": [
    {
     "data": {
      "text/html": [
       "<div>\n",
       "<style scoped>\n",
       "    .dataframe tbody tr th:only-of-type {\n",
       "        vertical-align: middle;\n",
       "    }\n",
       "\n",
       "    .dataframe tbody tr th {\n",
       "        vertical-align: top;\n",
       "    }\n",
       "\n",
       "    .dataframe thead th {\n",
       "        text-align: right;\n",
       "    }\n",
       "</style>\n",
       "<table border=\"1\" class=\"dataframe\">\n",
       "  <thead>\n",
       "    <tr style=\"text-align: right;\">\n",
       "      <th></th>\n",
       "      <th>precision</th>\n",
       "      <th>recall</th>\n",
       "      <th>thresholds</th>\n",
       "    </tr>\n",
       "  </thead>\n",
       "  <tbody>\n",
       "    <tr>\n",
       "      <th>57</th>\n",
       "      <td>0.652778</td>\n",
       "      <td>0.959184</td>\n",
       "      <td>-2.388694</td>\n",
       "    </tr>\n",
       "    <tr>\n",
       "      <th>58</th>\n",
       "      <td>0.661972</td>\n",
       "      <td>0.959184</td>\n",
       "      <td>-2.365327</td>\n",
       "    </tr>\n",
       "    <tr>\n",
       "      <th>59</th>\n",
       "      <td>0.712121</td>\n",
       "      <td>0.959184</td>\n",
       "      <td>-2.231215</td>\n",
       "    </tr>\n",
       "    <tr>\n",
       "      <th>60</th>\n",
       "      <td>0.723077</td>\n",
       "      <td>0.959184</td>\n",
       "      <td>-2.151678</td>\n",
       "    </tr>\n",
       "    <tr>\n",
       "      <th>61</th>\n",
       "      <td>0.734375</td>\n",
       "      <td>0.959184</td>\n",
       "      <td>-1.202316</td>\n",
       "    </tr>\n",
       "    <tr>\n",
       "      <th>62</th>\n",
       "      <td>0.730159</td>\n",
       "      <td>0.938776</td>\n",
       "      <td>-0.982606</td>\n",
       "    </tr>\n",
       "    <tr>\n",
       "      <th>63</th>\n",
       "      <td>0.741935</td>\n",
       "      <td>0.938776</td>\n",
       "      <td>-0.750079</td>\n",
       "    </tr>\n",
       "    <tr>\n",
       "      <th>64</th>\n",
       "      <td>0.737705</td>\n",
       "      <td>0.918367</td>\n",
       "      <td>-0.726257</td>\n",
       "    </tr>\n",
       "    <tr>\n",
       "      <th>65</th>\n",
       "      <td>0.750000</td>\n",
       "      <td>0.918367</td>\n",
       "      <td>-0.694412</td>\n",
       "    </tr>\n",
       "    <tr>\n",
       "      <th>66</th>\n",
       "      <td>0.762712</td>\n",
       "      <td>0.918367</td>\n",
       "      <td>-0.681883</td>\n",
       "    </tr>\n",
       "    <tr>\n",
       "      <th>67</th>\n",
       "      <td>0.775862</td>\n",
       "      <td>0.918367</td>\n",
       "      <td>-0.675809</td>\n",
       "    </tr>\n",
       "    <tr>\n",
       "      <th>68</th>\n",
       "      <td>0.771930</td>\n",
       "      <td>0.897959</td>\n",
       "      <td>-0.675598</td>\n",
       "    </tr>\n",
       "    <tr>\n",
       "      <th>69</th>\n",
       "      <td>0.785714</td>\n",
       "      <td>0.897959</td>\n",
       "      <td>-0.521872</td>\n",
       "    </tr>\n",
       "    <tr>\n",
       "      <th>70</th>\n",
       "      <td>0.800000</td>\n",
       "      <td>0.897959</td>\n",
       "      <td>-0.439559</td>\n",
       "    </tr>\n",
       "    <tr>\n",
       "      <th>71</th>\n",
       "      <td>0.796296</td>\n",
       "      <td>0.877551</td>\n",
       "      <td>-0.328915</td>\n",
       "    </tr>\n",
       "    <tr>\n",
       "      <th>72</th>\n",
       "      <td>0.792453</td>\n",
       "      <td>0.857143</td>\n",
       "      <td>-0.243058</td>\n",
       "    </tr>\n",
       "    <tr>\n",
       "      <th>73</th>\n",
       "      <td>0.788462</td>\n",
       "      <td>0.836735</td>\n",
       "      <td>-0.033011</td>\n",
       "    </tr>\n",
       "    <tr>\n",
       "      <th>74</th>\n",
       "      <td>0.784314</td>\n",
       "      <td>0.816327</td>\n",
       "      <td>-0.012262</td>\n",
       "    </tr>\n",
       "    <tr>\n",
       "      <th>75</th>\n",
       "      <td>0.780000</td>\n",
       "      <td>0.795918</td>\n",
       "      <td>0.085385</td>\n",
       "    </tr>\n",
       "    <tr>\n",
       "      <th>76</th>\n",
       "      <td>0.795918</td>\n",
       "      <td>0.795918</td>\n",
       "      <td>0.088892</td>\n",
       "    </tr>\n",
       "  </tbody>\n",
       "</table>\n",
       "</div>"
      ],
      "text/plain": [
       "    precision    recall  thresholds\n",
       "57   0.652778  0.959184   -2.388694\n",
       "58   0.661972  0.959184   -2.365327\n",
       "59   0.712121  0.959184   -2.231215\n",
       "60   0.723077  0.959184   -2.151678\n",
       "61   0.734375  0.959184   -1.202316\n",
       "62   0.730159  0.938776   -0.982606\n",
       "63   0.741935  0.938776   -0.750079\n",
       "64   0.737705  0.918367   -0.726257\n",
       "65   0.750000  0.918367   -0.694412\n",
       "66   0.762712  0.918367   -0.681883\n",
       "67   0.775862  0.918367   -0.675809\n",
       "68   0.771930  0.897959   -0.675598\n",
       "69   0.785714  0.897959   -0.521872\n",
       "70   0.800000  0.897959   -0.439559\n",
       "71   0.796296  0.877551   -0.328915\n",
       "72   0.792453  0.857143   -0.243058\n",
       "73   0.788462  0.836735   -0.033011\n",
       "74   0.784314  0.816327   -0.012262\n",
       "75   0.780000  0.795918    0.085385\n",
       "76   0.795918  0.795918    0.088892"
      ]
     },
     "execution_count": 492,
     "metadata": {},
     "output_type": "execute_result"
    }
   ],
   "source": [
    "# let's see this in a tabular format\n",
    "names = [\"precision\", \"recall\", \"thresholds\"]\n",
    "prt_dict = {name:nums for name, nums in zip(names, [precisions[:-1], recalls[:-1], thresholds])}\n",
    "prt_df = pd.DataFrame(prt_dict)\n",
    "prt_df[prt_df[\"recall\"].between(.78,.96)]  # this is the recall range we're interested in, based on the curve above."
   ]
  },
  {
   "cell_type": "markdown",
   "metadata": {},
   "source": [
    "We decide that the threshold of -0.648266 is best since it'll keep the recall around around 80%, while keeping the precision relatively high. "
   ]
  },
  {
   "cell_type": "markdown",
   "metadata": {},
   "source": [
    "#### Testing and Setting the new Threshold"
   ]
  },
  {
   "cell_type": "code",
   "execution_count": 442,
   "metadata": {},
   "outputs": [
    {
     "name": "stdout",
     "output_type": "stream",
     "text": [
      "precision score: 0.7962962962962963\n",
      "   recall score: 0.8775510204081632\n"
     ]
    }
   ],
   "source": [
    "from sklearn.metrics import precision_score, recall_score\n",
    "\n",
    "new_pred = y_scores >= -0.426808\n",
    "\n",
    "print(f'precision score: {precision_score(y_train, new_pred)}\\n\\\n",
    "   recall score: {recall_score(y_train, new_pred)}')"
   ]
  },
  {
   "cell_type": "markdown",
   "metadata": {},
   "source": [
    "### Test Set"
   ]
  },
  {
   "cell_type": "code",
   "execution_count": 443,
   "metadata": {},
   "outputs": [
    {
     "name": "stdout",
     "output_type": "stream",
     "text": [
      "precision score: 0.8181818181818182\n",
      "   recall score: 0.9\n"
     ]
    }
   ],
   "source": [
    "test_preds = lr.decision_function(X_test) >= -0.426808\n",
    "\n",
    "print(f'precision score: {precision_score(y_test, test_preds)}\\n\\\n",
    "   recall score: {recall_score(y_test, test_preds)}')"
   ]
  },
  {
   "cell_type": "code",
   "execution_count": 444,
   "metadata": {},
   "outputs": [
    {
     "data": {
      "text/html": [
       "<div>\n",
       "<style scoped>\n",
       "    .dataframe tbody tr th:only-of-type {\n",
       "        vertical-align: middle;\n",
       "    }\n",
       "\n",
       "    .dataframe tbody tr th {\n",
       "        vertical-align: top;\n",
       "    }\n",
       "\n",
       "    .dataframe thead th {\n",
       "        text-align: right;\n",
       "    }\n",
       "</style>\n",
       "<table border=\"1\" class=\"dataframe\">\n",
       "  <thead>\n",
       "    <tr style=\"text-align: right;\">\n",
       "      <th></th>\n",
       "      <th>features</th>\n",
       "      <th>coefs</th>\n",
       "    </tr>\n",
       "  </thead>\n",
       "  <tbody>\n",
       "    <tr>\n",
       "      <th>5</th>\n",
       "      <td>speed</td>\n",
       "      <td>0.152145</td>\n",
       "    </tr>\n",
       "    <tr>\n",
       "      <th>2</th>\n",
       "      <td>defense</td>\n",
       "      <td>0.125399</td>\n",
       "    </tr>\n",
       "    <tr>\n",
       "      <th>4</th>\n",
       "      <td>sp_def</td>\n",
       "      <td>0.121915</td>\n",
       "    </tr>\n",
       "    <tr>\n",
       "      <th>3</th>\n",
       "      <td>sp_atk</td>\n",
       "      <td>0.106241</td>\n",
       "    </tr>\n",
       "    <tr>\n",
       "      <th>1</th>\n",
       "      <td>attack</td>\n",
       "      <td>0.087178</td>\n",
       "    </tr>\n",
       "    <tr>\n",
       "      <th>0</th>\n",
       "      <td>hp</td>\n",
       "      <td>-0.006368</td>\n",
       "    </tr>\n",
       "    <tr>\n",
       "      <th>6</th>\n",
       "      <td>psychic_ind</td>\n",
       "      <td>-0.491459</td>\n",
       "    </tr>\n",
       "    <tr>\n",
       "      <th>7</th>\n",
       "      <td>dragon_ind</td>\n",
       "      <td>-0.884827</td>\n",
       "    </tr>\n",
       "  </tbody>\n",
       "</table>\n",
       "</div>"
      ],
      "text/plain": [
       "      features     coefs\n",
       "5        speed  0.152145\n",
       "2      defense  0.125399\n",
       "4       sp_def  0.121915\n",
       "3       sp_atk  0.106241\n",
       "1       attack  0.087178\n",
       "0           hp -0.006368\n",
       "6  psychic_ind -0.491459\n",
       "7   dragon_ind -0.884827"
      ]
     },
     "execution_count": 444,
     "metadata": {},
     "output_type": "execute_result"
    }
   ],
   "source": [
    "features = list(X_train.columns)\n",
    "coefs = list(lr.coef_[0])\n",
    "\n",
    "pd.DataFrame({'features':features,\n",
    "              'coefs':coefs}).sort_values(by=['coefs'], ascending=False)"
   ]
  },
  {
   "cell_type": "markdown",
   "metadata": {},
   "source": [
    "### Conclusion\n",
    "\n",
    "We see that our performed better on the test set than on the training set. However, there's still a lot of volatility. On another run, there's a good chance that our precision/recall on the test would be worse.  Since only about 8% of pokemon are legendary, there's a good chance that many of the legendary pokemon that are outliers will (e.g. have lower stats) fall into one of the sets and not the other.\n",
    "\n",
    "## Next Time:\n",
    "\n",
    "see if you can make any actions from the exploration phase especially the correlation map.\n",
    "\n",
    "see if you can make so that we can see which features predict being legendary the best.\n",
    "\n",
    "By using the correlation map, we achieve around r/p of 90/79 which is good.\n",
    "\n",
    "Next let's make a function where you can type in any pokeon name and we can see what the classifier thinks it is.\n",
    "\n",
    "Maybe we can try using grid search, RCEV to see which features are best to keep."
   ]
  },
  {
   "cell_type": "code",
   "execution_count": null,
   "metadata": {},
   "outputs": [],
   "source": []
  }
 ],
 "metadata": {
  "kernelspec": {
   "display_name": "Python 3",
   "language": "python",
   "name": "python3"
  },
  "language_info": {
   "codemirror_mode": {
    "name": "ipython",
    "version": 3
   },
   "file_extension": ".py",
   "mimetype": "text/x-python",
   "name": "python",
   "nbconvert_exporter": "python",
   "pygments_lexer": "ipython3",
   "version": "3.8.3"
  }
 },
 "nbformat": 4,
 "nbformat_minor": 4
}
